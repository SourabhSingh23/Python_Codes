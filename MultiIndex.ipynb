{
 "cells": [
  {
   "cell_type": "code",
   "execution_count": 2,
   "metadata": {
    "id": "UqklmQckJat2"
   },
   "outputs": [],
   "source": [
    "import pandas as pd\n",
    "import numpy as np\n",
    "from pandas import Series,DataFrame\n",
    "from numpy.random import randn\n",
    "\n",
    "import matplotlib.pyplot as plt\n",
    "import seaborn as sns\n",
    "%matplotlib inline"
   ]
  },
  {
   "cell_type": "code",
   "execution_count": 3,
   "metadata": {
    "id": "NzzjeLNYJat_",
    "outputId": "dab7c414-9b26-4756-863a-814442765ff7"
   },
   "outputs": [
    {
     "data": {
      "text/html": [
       "<div>\n",
       "<style scoped>\n",
       "    .dataframe tbody tr th:only-of-type {\n",
       "        vertical-align: middle;\n",
       "    }\n",
       "\n",
       "    .dataframe tbody tr th {\n",
       "        vertical-align: top;\n",
       "    }\n",
       "\n",
       "    .dataframe thead th {\n",
       "        text-align: right;\n",
       "    }\n",
       "</style>\n",
       "<table border=\"1\" class=\"dataframe\">\n",
       "  <thead>\n",
       "    <tr style=\"text-align: right;\">\n",
       "      <th></th>\n",
       "      <th>Date</th>\n",
       "      <th>Country</th>\n",
       "      <th>Price in US Dollars</th>\n",
       "    </tr>\n",
       "  </thead>\n",
       "  <tbody>\n",
       "    <tr>\n",
       "      <th>0</th>\n",
       "      <td>2016-01-01</td>\n",
       "      <td>Argentina</td>\n",
       "      <td>2.39</td>\n",
       "    </tr>\n",
       "    <tr>\n",
       "      <th>1</th>\n",
       "      <td>2016-01-01</td>\n",
       "      <td>Australia</td>\n",
       "      <td>3.74</td>\n",
       "    </tr>\n",
       "    <tr>\n",
       "      <th>2</th>\n",
       "      <td>2016-01-01</td>\n",
       "      <td>Brazil</td>\n",
       "      <td>3.35</td>\n",
       "    </tr>\n",
       "  </tbody>\n",
       "</table>\n",
       "</div>"
      ],
      "text/plain": [
       "        Date    Country  Price in US Dollars\n",
       "0 2016-01-01  Argentina                 2.39\n",
       "1 2016-01-01  Australia                 3.74\n",
       "2 2016-01-01     Brazil                 3.35"
      ]
     },
     "execution_count": 3,
     "metadata": {},
     "output_type": "execute_result"
    }
   ],
   "source": [
    "\n",
    "bigmac = pd.read_csv(\"bigmac.csv\", parse_dates = [\"Date\"])\n",
    "\n",
    "bigmac.head(3)\n"
   ]
  },
  {
   "cell_type": "markdown",
   "metadata": {
    "id": "x3VPrcrfJauC"
   },
   "source": [
    "## Create A MultiIndex with the `.set_index()` Method"
   ]
  },
  {
   "cell_type": "code",
   "execution_count": 4,
   "metadata": {
    "id": "4x_sjdOLJauE",
    "outputId": "996a0dd0-6f58-495e-b10c-b5bb5e0e921a"
   },
   "outputs": [
    {
     "data": {
      "text/html": [
       "<div>\n",
       "<style scoped>\n",
       "    .dataframe tbody tr th:only-of-type {\n",
       "        vertical-align: middle;\n",
       "    }\n",
       "\n",
       "    .dataframe tbody tr th {\n",
       "        vertical-align: top;\n",
       "    }\n",
       "\n",
       "    .dataframe thead th {\n",
       "        text-align: right;\n",
       "    }\n",
       "</style>\n",
       "<table border=\"1\" class=\"dataframe\">\n",
       "  <thead>\n",
       "    <tr style=\"text-align: right;\">\n",
       "      <th></th>\n",
       "      <th>Date</th>\n",
       "      <th>Country</th>\n",
       "      <th>Price in US Dollars</th>\n",
       "    </tr>\n",
       "  </thead>\n",
       "  <tbody>\n",
       "    <tr>\n",
       "      <th>0</th>\n",
       "      <td>2016-01-01</td>\n",
       "      <td>Argentina</td>\n",
       "      <td>2.39</td>\n",
       "    </tr>\n",
       "    <tr>\n",
       "      <th>1</th>\n",
       "      <td>2016-01-01</td>\n",
       "      <td>Australia</td>\n",
       "      <td>3.74</td>\n",
       "    </tr>\n",
       "    <tr>\n",
       "      <th>2</th>\n",
       "      <td>2016-01-01</td>\n",
       "      <td>Brazil</td>\n",
       "      <td>3.35</td>\n",
       "    </tr>\n",
       "  </tbody>\n",
       "</table>\n",
       "</div>"
      ],
      "text/plain": [
       "        Date    Country  Price in US Dollars\n",
       "0 2016-01-01  Argentina                 2.39\n",
       "1 2016-01-01  Australia                 3.74\n",
       "2 2016-01-01     Brazil                 3.35"
      ]
     },
     "execution_count": 4,
     "metadata": {},
     "output_type": "execute_result"
    }
   ],
   "source": [
    "\n",
    "bigmac = pd.read_csv(\"bigmac.csv\", parse_dates = [\"Date\"])\n",
    "\n",
    "bigmac.head(3)\n"
   ]
  },
  {
   "cell_type": "code",
   "execution_count": 5,
   "metadata": {
    "id": "b7SjFiZNJauG",
    "outputId": "3ca0c3d8-17a6-44bd-df94-2ceeab928166"
   },
   "outputs": [
    {
     "data": {
      "text/html": [
       "<div>\n",
       "<style scoped>\n",
       "    .dataframe tbody tr th:only-of-type {\n",
       "        vertical-align: middle;\n",
       "    }\n",
       "\n",
       "    .dataframe tbody tr th {\n",
       "        vertical-align: top;\n",
       "    }\n",
       "\n",
       "    .dataframe thead th {\n",
       "        text-align: right;\n",
       "    }\n",
       "</style>\n",
       "<table border=\"1\" class=\"dataframe\">\n",
       "  <thead>\n",
       "    <tr style=\"text-align: right;\">\n",
       "      <th></th>\n",
       "      <th></th>\n",
       "      <th>Price in US Dollars</th>\n",
       "    </tr>\n",
       "    <tr>\n",
       "      <th>Date</th>\n",
       "      <th>Country</th>\n",
       "      <th></th>\n",
       "    </tr>\n",
       "  </thead>\n",
       "  <tbody>\n",
       "    <tr>\n",
       "      <th rowspan=\"3\" valign=\"top\">2016-01-01</th>\n",
       "      <th>Argentina</th>\n",
       "      <td>2.39</td>\n",
       "    </tr>\n",
       "    <tr>\n",
       "      <th>Australia</th>\n",
       "      <td>3.74</td>\n",
       "    </tr>\n",
       "    <tr>\n",
       "      <th>Brazil</th>\n",
       "      <td>3.35</td>\n",
       "    </tr>\n",
       "  </tbody>\n",
       "</table>\n",
       "</div>"
      ],
      "text/plain": [
       "                      Price in US Dollars\n",
       "Date       Country                       \n",
       "2016-01-01 Argentina                 2.39\n",
       "           Australia                 3.74\n",
       "           Brazil                    3.35"
      ]
     },
     "execution_count": 5,
     "metadata": {},
     "output_type": "execute_result"
    }
   ],
   "source": [
    "# .set_index() : setting columns as index of a table\n",
    "\n",
    "\n",
    "bigmac.set_index(keys = [\"Date\", \"Country\"], inplace = True)\n",
    "\n",
    "bigmac.head(3)\n"
   ]
  },
  {
   "cell_type": "code",
   "execution_count": 6,
   "metadata": {
    "id": "MhCyraafJauI"
   },
   "outputs": [],
   "source": [
    "\n",
    "bigmac.sort_index(inplace = True)\n"
   ]
  },
  {
   "cell_type": "code",
   "execution_count": 7,
   "metadata": {
    "id": "xTyHUni7JauK",
    "outputId": "f8ef9017-053e-424e-dedb-6806daa8664e"
   },
   "outputs": [
    {
     "data": {
      "text/html": [
       "<div>\n",
       "<style scoped>\n",
       "    .dataframe tbody tr th:only-of-type {\n",
       "        vertical-align: middle;\n",
       "    }\n",
       "\n",
       "    .dataframe tbody tr th {\n",
       "        vertical-align: top;\n",
       "    }\n",
       "\n",
       "    .dataframe thead th {\n",
       "        text-align: right;\n",
       "    }\n",
       "</style>\n",
       "<table border=\"1\" class=\"dataframe\">\n",
       "  <thead>\n",
       "    <tr style=\"text-align: right;\">\n",
       "      <th></th>\n",
       "      <th></th>\n",
       "      <th>Price in US Dollars</th>\n",
       "    </tr>\n",
       "    <tr>\n",
       "      <th>Date</th>\n",
       "      <th>Country</th>\n",
       "      <th></th>\n",
       "    </tr>\n",
       "  </thead>\n",
       "  <tbody>\n",
       "    <tr>\n",
       "      <th rowspan=\"3\" valign=\"top\">2010-01-01</th>\n",
       "      <th>Argentina</th>\n",
       "      <td>1.84</td>\n",
       "    </tr>\n",
       "    <tr>\n",
       "      <th>Australia</th>\n",
       "      <td>3.98</td>\n",
       "    </tr>\n",
       "    <tr>\n",
       "      <th>Brazil</th>\n",
       "      <td>4.76</td>\n",
       "    </tr>\n",
       "  </tbody>\n",
       "</table>\n",
       "</div>"
      ],
      "text/plain": [
       "                      Price in US Dollars\n",
       "Date       Country                       \n",
       "2010-01-01 Argentina                 1.84\n",
       "           Australia                 3.98\n",
       "           Brazil                    4.76"
      ]
     },
     "execution_count": 7,
     "metadata": {},
     "output_type": "execute_result"
    }
   ],
   "source": [
    "\n",
    "bigmac.head(3)\n"
   ]
  },
  {
   "cell_type": "code",
   "execution_count": 8,
   "metadata": {
    "id": "ngkdO0LKJauL",
    "outputId": "9bf46d5f-03a4-4e88-b375-3a8134e0db40"
   },
   "outputs": [
    {
     "data": {
      "text/plain": [
       "FrozenList(['Date', 'Country'])"
      ]
     },
     "execution_count": 8,
     "metadata": {},
     "output_type": "execute_result"
    }
   ],
   "source": [
    "\n",
    "bigmac.index.names\n"
   ]
  },
  {
   "cell_type": "code",
   "execution_count": 9,
   "metadata": {
    "id": "ZyaLDGVIJauM",
    "outputId": "9e915f8d-02c3-4cf9-ec40-abaa2f284fad"
   },
   "outputs": [
    {
     "data": {
      "text/plain": [
       "pandas.core.indexes.multi.MultiIndex"
      ]
     },
     "execution_count": 9,
     "metadata": {},
     "output_type": "execute_result"
    }
   ],
   "source": [
    "\n",
    "type(bigmac.index)\n"
   ]
  },
  {
   "cell_type": "code",
   "execution_count": 10,
   "metadata": {
    "id": "VS_rr5n6JauO",
    "outputId": "b7e18185-24cb-4d59-a31b-bc9f9666b0d1"
   },
   "outputs": [
    {
     "data": {
      "text/plain": [
       "(Timestamp('2010-01-01 00:00:00'), 'Argentina')"
      ]
     },
     "execution_count": 10,
     "metadata": {},
     "output_type": "execute_result"
    }
   ],
   "source": [
    "\n",
    "bigmac.index[0]\n"
   ]
  },
  {
   "cell_type": "markdown",
   "metadata": {
    "id": "hNl7jwAIJauQ"
   },
   "source": [
    "## The `.get_level_values()` Method"
   ]
  },
  {
   "cell_type": "code",
   "execution_count": 11,
   "metadata": {
    "id": "d2T2Qf7CJauQ",
    "outputId": "22d8243a-456d-478b-9935-a80bc8aa2e3c"
   },
   "outputs": [
    {
     "data": {
      "text/html": [
       "<div>\n",
       "<style scoped>\n",
       "    .dataframe tbody tr th:only-of-type {\n",
       "        vertical-align: middle;\n",
       "    }\n",
       "\n",
       "    .dataframe tbody tr th {\n",
       "        vertical-align: top;\n",
       "    }\n",
       "\n",
       "    .dataframe thead th {\n",
       "        text-align: right;\n",
       "    }\n",
       "</style>\n",
       "<table border=\"1\" class=\"dataframe\">\n",
       "  <thead>\n",
       "    <tr style=\"text-align: right;\">\n",
       "      <th></th>\n",
       "      <th></th>\n",
       "      <th>Price in US Dollars</th>\n",
       "    </tr>\n",
       "    <tr>\n",
       "      <th>Date</th>\n",
       "      <th>Country</th>\n",
       "      <th></th>\n",
       "    </tr>\n",
       "  </thead>\n",
       "  <tbody>\n",
       "    <tr>\n",
       "      <th rowspan=\"3\" valign=\"top\">2010-01-01</th>\n",
       "      <th>Argentina</th>\n",
       "      <td>1.84</td>\n",
       "    </tr>\n",
       "    <tr>\n",
       "      <th>Australia</th>\n",
       "      <td>3.98</td>\n",
       "    </tr>\n",
       "    <tr>\n",
       "      <th>Brazil</th>\n",
       "      <td>4.76</td>\n",
       "    </tr>\n",
       "  </tbody>\n",
       "</table>\n",
       "</div>"
      ],
      "text/plain": [
       "                      Price in US Dollars\n",
       "Date       Country                       \n",
       "2010-01-01 Argentina                 1.84\n",
       "           Australia                 3.98\n",
       "           Brazil                    4.76"
      ]
     },
     "execution_count": 11,
     "metadata": {},
     "output_type": "execute_result"
    }
   ],
   "source": [
    "\n",
    "bigmac = pd.read_csv(\"bigmac.csv\", parse_dates = [\"Date\"], index_col = [\"Date\", \"Country\"])\n",
    "\n",
    "bigmac.sort_index(inplace = True)\n",
    "\n",
    "bigmac.head(3)\n"
   ]
  },
  {
   "cell_type": "code",
   "execution_count": 12,
   "metadata": {
    "id": "ID3l_RScJauR",
    "outputId": "ee9aafef-37dc-4ceb-a997-a31ce5ebc17e"
   },
   "outputs": [
    {
     "data": {
      "text/plain": [
       "DatetimeIndex(['2010-01-01', '2010-01-01', '2010-01-01', '2010-01-01',\n",
       "               '2010-01-01', '2010-01-01', '2010-01-01', '2010-01-01',\n",
       "               '2010-01-01', '2010-01-01',\n",
       "               ...\n",
       "               '2016-01-01', '2016-01-01', '2016-01-01', '2016-01-01',\n",
       "               '2016-01-01', '2016-01-01', '2016-01-01', '2016-01-01',\n",
       "               '2016-01-01', '2016-01-01'],\n",
       "              dtype='datetime64[ns]', name='Date', length=652, freq=None)"
      ]
     },
     "execution_count": 12,
     "metadata": {},
     "output_type": "execute_result"
    }
   ],
   "source": [
    "\n",
    "bigmac.index.get_level_values(0)\n",
    "\n",
    "bigmac.index.get_level_values(\"Date\")\n"
   ]
  },
  {
   "cell_type": "code",
   "execution_count": 13,
   "metadata": {
    "id": "0gdy6-aAJauS",
    "outputId": "db9792d0-af3b-4ccb-9b54-aa0c9eb6baf3"
   },
   "outputs": [
    {
     "data": {
      "text/plain": [
       "Index(['Argentina', 'Australia', 'Brazil', 'Britain', 'Canada', 'Chile',\n",
       "       'China', 'Colombia', 'Costa Rica', 'Czech Republic',\n",
       "       ...\n",
       "       'Switzerland', 'Taiwan', 'Thailand', 'Turkey', 'UAE', 'Ukraine',\n",
       "       'United States', 'Uruguay', 'Venezuela', 'Vietnam'],\n",
       "      dtype='object', name='Country', length=652)"
      ]
     },
     "execution_count": 13,
     "metadata": {},
     "output_type": "execute_result"
    }
   ],
   "source": [
    "\n",
    "#bigmac.index.get_level_values(1)\n",
    "\n",
    "bigmac.index.get_level_values(\"Country\")\n"
   ]
  },
  {
   "cell_type": "code",
   "execution_count": null,
   "metadata": {
    "id": "OdxNBRa6JauX"
   },
   "outputs": [],
   "source": []
  },
  {
   "cell_type": "code",
   "execution_count": null,
   "metadata": {
    "id": "VRhrc_jDJauX"
   },
   "outputs": [],
   "source": []
  },
  {
   "cell_type": "markdown",
   "metadata": {
    "collapsed": true,
    "id": "nzAwGUiBJauY"
   },
   "source": [
    "## The `.set_names()` Method on MultiIndex"
   ]
  },
  {
   "cell_type": "code",
   "execution_count": 49,
   "metadata": {
    "id": "dGn78ClPJauY",
    "outputId": "a4a62d65-c13d-46a8-9d5b-99c14fa40b4f"
   },
   "outputs": [
    {
     "data": {
      "text/html": [
       "<div>\n",
       "<style scoped>\n",
       "    .dataframe tbody tr th:only-of-type {\n",
       "        vertical-align: middle;\n",
       "    }\n",
       "\n",
       "    .dataframe tbody tr th {\n",
       "        vertical-align: top;\n",
       "    }\n",
       "\n",
       "    .dataframe thead th {\n",
       "        text-align: right;\n",
       "    }\n",
       "</style>\n",
       "<table border=\"1\" class=\"dataframe\">\n",
       "  <thead>\n",
       "    <tr style=\"text-align: right;\">\n",
       "      <th></th>\n",
       "      <th></th>\n",
       "      <th>Price in US Dollars</th>\n",
       "    </tr>\n",
       "    <tr>\n",
       "      <th>Date</th>\n",
       "      <th>Country</th>\n",
       "      <th></th>\n",
       "    </tr>\n",
       "  </thead>\n",
       "  <tbody>\n",
       "    <tr>\n",
       "      <th rowspan=\"3\" valign=\"top\">2010-01-01</th>\n",
       "      <th>Argentina</th>\n",
       "      <td>1.84</td>\n",
       "    </tr>\n",
       "    <tr>\n",
       "      <th>Australia</th>\n",
       "      <td>3.98</td>\n",
       "    </tr>\n",
       "    <tr>\n",
       "      <th>Brazil</th>\n",
       "      <td>4.76</td>\n",
       "    </tr>\n",
       "  </tbody>\n",
       "</table>\n",
       "</div>"
      ],
      "text/plain": [
       "                      Price in US Dollars\n",
       "Date       Country                       \n",
       "2010-01-01 Argentina                 1.84\n",
       "           Australia                 3.98\n",
       "           Brazil                    4.76"
      ]
     },
     "execution_count": 49,
     "metadata": {},
     "output_type": "execute_result"
    }
   ],
   "source": [
    "\n",
    "bigmac = pd.read_csv(\"bigmac.csv\", parse_dates = [\"Date\"], index_col = [\"Date\", \"Country\"])\n",
    "\n",
    "bigmac.sort_index(inplace = True)\n",
    "\n",
    "bigmac.head(3)\n"
   ]
  },
  {
   "cell_type": "code",
   "execution_count": 50,
   "metadata": {
    "id": "9LtMlcBLJaua"
   },
   "outputs": [],
   "source": [
    "# .set_names() : Set Index or MultiIndex name.\n",
    "\n",
    "\n",
    "bigmac.index.set_names([\"Date\", \"Location\"], inplace = True)\n"
   ]
  },
  {
   "cell_type": "code",
   "execution_count": 51,
   "metadata": {
    "id": "GHJcu_p9Jaua",
    "outputId": "40d642ed-5525-454c-eed7-1bbe00370667"
   },
   "outputs": [
    {
     "data": {
      "text/html": [
       "<div>\n",
       "<style scoped>\n",
       "    .dataframe tbody tr th:only-of-type {\n",
       "        vertical-align: middle;\n",
       "    }\n",
       "\n",
       "    .dataframe tbody tr th {\n",
       "        vertical-align: top;\n",
       "    }\n",
       "\n",
       "    .dataframe thead th {\n",
       "        text-align: right;\n",
       "    }\n",
       "</style>\n",
       "<table border=\"1\" class=\"dataframe\">\n",
       "  <thead>\n",
       "    <tr style=\"text-align: right;\">\n",
       "      <th></th>\n",
       "      <th></th>\n",
       "      <th>Price in US Dollars</th>\n",
       "    </tr>\n",
       "    <tr>\n",
       "      <th>Date</th>\n",
       "      <th>Location</th>\n",
       "      <th></th>\n",
       "    </tr>\n",
       "  </thead>\n",
       "  <tbody>\n",
       "    <tr>\n",
       "      <th rowspan=\"3\" valign=\"top\">2010-01-01</th>\n",
       "      <th>Argentina</th>\n",
       "      <td>1.84</td>\n",
       "    </tr>\n",
       "    <tr>\n",
       "      <th>Australia</th>\n",
       "      <td>3.98</td>\n",
       "    </tr>\n",
       "    <tr>\n",
       "      <th>Brazil</th>\n",
       "      <td>4.76</td>\n",
       "    </tr>\n",
       "  </tbody>\n",
       "</table>\n",
       "</div>"
      ],
      "text/plain": [
       "                      Price in US Dollars\n",
       "Date       Location                      \n",
       "2010-01-01 Argentina                 1.84\n",
       "           Australia                 3.98\n",
       "           Brazil                    4.76"
      ]
     },
     "execution_count": 51,
     "metadata": {},
     "output_type": "execute_result"
    }
   ],
   "source": [
    "\n",
    "bigmac.head(3)\n"
   ]
  },
  {
   "cell_type": "markdown",
   "metadata": {
    "collapsed": true,
    "id": "72rTf8y4Jaua"
   },
   "source": [
    "## Extract Rows from a `MultiIndex DataFrame`"
   ]
  },
  {
   "cell_type": "code",
   "execution_count": 44,
   "metadata": {
    "id": "97CmxtfuJaub",
    "outputId": "2b03c359-d6cc-48c7-8038-e2b16ee69b58"
   },
   "outputs": [
    {
     "data": {
      "text/html": [
       "<div>\n",
       "<style scoped>\n",
       "    .dataframe tbody tr th:only-of-type {\n",
       "        vertical-align: middle;\n",
       "    }\n",
       "\n",
       "    .dataframe tbody tr th {\n",
       "        vertical-align: top;\n",
       "    }\n",
       "\n",
       "    .dataframe thead th {\n",
       "        text-align: right;\n",
       "    }\n",
       "</style>\n",
       "<table border=\"1\" class=\"dataframe\">\n",
       "  <thead>\n",
       "    <tr style=\"text-align: right;\">\n",
       "      <th></th>\n",
       "      <th></th>\n",
       "      <th>Price in US Dollars</th>\n",
       "    </tr>\n",
       "    <tr>\n",
       "      <th>Date</th>\n",
       "      <th>Country</th>\n",
       "      <th></th>\n",
       "    </tr>\n",
       "  </thead>\n",
       "  <tbody>\n",
       "    <tr>\n",
       "      <th rowspan=\"3\" valign=\"top\">2010-01-01</th>\n",
       "      <th>Argentina</th>\n",
       "      <td>1.84</td>\n",
       "    </tr>\n",
       "    <tr>\n",
       "      <th>Australia</th>\n",
       "      <td>3.98</td>\n",
       "    </tr>\n",
       "    <tr>\n",
       "      <th>Brazil</th>\n",
       "      <td>4.76</td>\n",
       "    </tr>\n",
       "  </tbody>\n",
       "</table>\n",
       "</div>"
      ],
      "text/plain": [
       "                      Price in US Dollars\n",
       "Date       Country                       \n",
       "2010-01-01 Argentina                 1.84\n",
       "           Australia                 3.98\n",
       "           Brazil                    4.76"
      ]
     },
     "execution_count": 44,
     "metadata": {},
     "output_type": "execute_result"
    }
   ],
   "source": [
    "\n",
    "bigmac = pd.read_csv(\"bigmac.csv\", parse_dates = [\"Date\"], index_col = [\"Date\", \"Country\"])\n",
    "\n",
    "bigmac.sort_index(inplace = True)\n",
    "\n",
    "bigmac.head(3)\n"
   ]
  },
  {
   "cell_type": "code",
   "execution_count": 45,
   "metadata": {
    "id": "8MVPrGBuJaub",
    "outputId": "ec955d87-aa08-46f8-83cc-eab61c4363e4"
   },
   "outputs": [
    {
     "data": {
      "text/plain": [
       "Date        Country\n",
       "2010-01-01  Brazil     4.76\n",
       "Name: Price in US Dollars, dtype: float64"
      ]
     },
     "execution_count": 45,
     "metadata": {},
     "output_type": "execute_result"
    }
   ],
   "source": [
    "\n",
    "bigmac.loc[(\"2010-01-01\", \"Brazil\"), \"Price in US Dollars\"]\n"
   ]
  },
  {
   "cell_type": "code",
   "execution_count": 46,
   "metadata": {
    "id": "ZUXEbuWPJauc",
    "outputId": "b933b5cc-8a09-4c88-d01a-cad4994ef497"
   },
   "outputs": [
    {
     "data": {
      "text/plain": [
       "Date        Country\n",
       "2015-07-01  Chile      3.27\n",
       "Name: Price in US Dollars, dtype: float64"
      ]
     },
     "execution_count": 46,
     "metadata": {},
     "output_type": "execute_result"
    }
   ],
   "source": [
    "\n",
    "bigmac.loc[(\"2015-07-01\", \"Chile\"), \"Price in US Dollars\"]\n"
   ]
  },
  {
   "cell_type": "markdown",
   "metadata": {
    "collapsed": true,
    "id": "y6b6C5LVJaud"
   },
   "source": [
    "## The `.transpose()` Method"
   ]
  },
  {
   "cell_type": "code",
   "execution_count": 40,
   "metadata": {
    "id": "Idms3xmwJaue",
    "outputId": "1287c704-f081-4a4c-d1a1-4c49f4ec2726"
   },
   "outputs": [
    {
     "data": {
      "text/html": [
       "<div>\n",
       "<style scoped>\n",
       "    .dataframe tbody tr th:only-of-type {\n",
       "        vertical-align: middle;\n",
       "    }\n",
       "\n",
       "    .dataframe tbody tr th {\n",
       "        vertical-align: top;\n",
       "    }\n",
       "\n",
       "    .dataframe thead th {\n",
       "        text-align: right;\n",
       "    }\n",
       "</style>\n",
       "<table border=\"1\" class=\"dataframe\">\n",
       "  <thead>\n",
       "    <tr style=\"text-align: right;\">\n",
       "      <th></th>\n",
       "      <th></th>\n",
       "      <th>Price in US Dollars</th>\n",
       "    </tr>\n",
       "    <tr>\n",
       "      <th>Date</th>\n",
       "      <th>Country</th>\n",
       "      <th></th>\n",
       "    </tr>\n",
       "  </thead>\n",
       "  <tbody>\n",
       "    <tr>\n",
       "      <th rowspan=\"3\" valign=\"top\">2010-01-01</th>\n",
       "      <th>Argentina</th>\n",
       "      <td>1.84</td>\n",
       "    </tr>\n",
       "    <tr>\n",
       "      <th>Australia</th>\n",
       "      <td>3.98</td>\n",
       "    </tr>\n",
       "    <tr>\n",
       "      <th>Brazil</th>\n",
       "      <td>4.76</td>\n",
       "    </tr>\n",
       "  </tbody>\n",
       "</table>\n",
       "</div>"
      ],
      "text/plain": [
       "                      Price in US Dollars\n",
       "Date       Country                       \n",
       "2010-01-01 Argentina                 1.84\n",
       "           Australia                 3.98\n",
       "           Brazil                    4.76"
      ]
     },
     "execution_count": 40,
     "metadata": {},
     "output_type": "execute_result"
    }
   ],
   "source": [
    "\n",
    "bigmac = pd.read_csv(\"bigmac.csv\", parse_dates = [\"Date\"], index_col = [\"Date\", \"Country\"])\n",
    "\n",
    "bigmac.sort_index(inplace = True)\n",
    "\n",
    "bigmac.head(3)\n"
   ]
  },
  {
   "cell_type": "code",
   "execution_count": 41,
   "metadata": {
    "id": "eZgE-wrGJaue",
    "outputId": "a7d1e485-54f7-46ed-e31f-99390362b583"
   },
   "outputs": [
    {
     "data": {
      "text/html": [
       "<div>\n",
       "<style scoped>\n",
       "    .dataframe tbody tr th:only-of-type {\n",
       "        vertical-align: middle;\n",
       "    }\n",
       "\n",
       "    .dataframe tbody tr th {\n",
       "        vertical-align: top;\n",
       "    }\n",
       "\n",
       "    .dataframe thead tr th {\n",
       "        text-align: left;\n",
       "    }\n",
       "</style>\n",
       "<table border=\"1\" class=\"dataframe\">\n",
       "  <thead>\n",
       "    <tr>\n",
       "      <th>Date</th>\n",
       "      <th colspan=\"10\" halign=\"left\">2010-01-01</th>\n",
       "      <th>...</th>\n",
       "      <th colspan=\"10\" halign=\"left\">2016-01-01</th>\n",
       "    </tr>\n",
       "    <tr>\n",
       "      <th>Country</th>\n",
       "      <th>Argentina</th>\n",
       "      <th>Australia</th>\n",
       "      <th>Brazil</th>\n",
       "      <th>Britain</th>\n",
       "      <th>Canada</th>\n",
       "      <th>Chile</th>\n",
       "      <th>China</th>\n",
       "      <th>Colombia</th>\n",
       "      <th>Costa Rica</th>\n",
       "      <th>Czech Republic</th>\n",
       "      <th>...</th>\n",
       "      <th>Switzerland</th>\n",
       "      <th>Taiwan</th>\n",
       "      <th>Thailand</th>\n",
       "      <th>Turkey</th>\n",
       "      <th>UAE</th>\n",
       "      <th>Ukraine</th>\n",
       "      <th>United States</th>\n",
       "      <th>Uruguay</th>\n",
       "      <th>Venezuela</th>\n",
       "      <th>Vietnam</th>\n",
       "    </tr>\n",
       "  </thead>\n",
       "  <tbody>\n",
       "    <tr>\n",
       "      <th>Price in US Dollars</th>\n",
       "      <td>1.84</td>\n",
       "      <td>3.98</td>\n",
       "      <td>4.76</td>\n",
       "      <td>3.67</td>\n",
       "      <td>3.97</td>\n",
       "      <td>3.18</td>\n",
       "      <td>1.83</td>\n",
       "      <td>3.91</td>\n",
       "      <td>3.52</td>\n",
       "      <td>3.71</td>\n",
       "      <td>...</td>\n",
       "      <td>6.44</td>\n",
       "      <td>2.08</td>\n",
       "      <td>3.09</td>\n",
       "      <td>3.41</td>\n",
       "      <td>3.54</td>\n",
       "      <td>1.54</td>\n",
       "      <td>4.93</td>\n",
       "      <td>3.74</td>\n",
       "      <td>0.66</td>\n",
       "      <td>2.67</td>\n",
       "    </tr>\n",
       "  </tbody>\n",
       "</table>\n",
       "<p>1 rows × 652 columns</p>\n",
       "</div>"
      ],
      "text/plain": [
       "Date                2010-01-01                                              \\\n",
       "Country              Argentina Australia Brazil Britain Canada Chile China   \n",
       "Price in US Dollars       1.84      3.98   4.76    3.67   3.97  3.18  1.83   \n",
       "\n",
       "Date                                                    ...  2016-01-01  \\\n",
       "Country             Colombia Costa Rica Czech Republic  ... Switzerland   \n",
       "Price in US Dollars     3.91       3.52           3.71  ...        6.44   \n",
       "\n",
       "Date                                                                    \\\n",
       "Country             Taiwan Thailand Turkey   UAE Ukraine United States   \n",
       "Price in US Dollars   2.08     3.09   3.41  3.54    1.54          4.93   \n",
       "\n",
       "Date                                           \n",
       "Country             Uruguay Venezuela Vietnam  \n",
       "Price in US Dollars    3.74      0.66    2.67  \n",
       "\n",
       "[1 rows x 652 columns]"
      ]
     },
     "execution_count": 41,
     "metadata": {},
     "output_type": "execute_result"
    }
   ],
   "source": [
    "# .transpose() : Transpose index and columns.\n",
    "\n",
    "\n",
    "bigmac = bigmac.transpose()\n",
    "\n",
    "bigmac.head(1)\n"
   ]
  },
  {
   "cell_type": "code",
   "execution_count": 43,
   "metadata": {
    "id": "MnldYGB_Jauf",
    "outputId": "5317f170-4d39-474c-8578-ed8860f21b54"
   },
   "outputs": [
    {
     "data": {
      "text/plain": [
       "Date        Country\n",
       "2016-01-01  Denmark    4.32\n",
       "Name: Price in US Dollars, dtype: float64"
      ]
     },
     "execution_count": 43,
     "metadata": {},
     "output_type": "execute_result"
    }
   ],
   "source": [
    "\n",
    "bigmac.loc[\"Price in US Dollars\", (\"2016-01-01\", \"Denmark\")]\n"
   ]
  },
  {
   "cell_type": "markdown",
   "metadata": {
    "collapsed": true,
    "id": "JwLO-sbOJauf"
   },
   "source": [
    "## The `.swaplevel()` Method"
   ]
  },
  {
   "cell_type": "code",
   "execution_count": 37,
   "metadata": {
    "id": "HITvczkuJaug",
    "outputId": "c4ca32c7-636a-4c8f-96fc-ad87ef31d94f"
   },
   "outputs": [
    {
     "data": {
      "text/html": [
       "<div>\n",
       "<style scoped>\n",
       "    .dataframe tbody tr th:only-of-type {\n",
       "        vertical-align: middle;\n",
       "    }\n",
       "\n",
       "    .dataframe tbody tr th {\n",
       "        vertical-align: top;\n",
       "    }\n",
       "\n",
       "    .dataframe thead th {\n",
       "        text-align: right;\n",
       "    }\n",
       "</style>\n",
       "<table border=\"1\" class=\"dataframe\">\n",
       "  <thead>\n",
       "    <tr style=\"text-align: right;\">\n",
       "      <th></th>\n",
       "      <th></th>\n",
       "      <th>Price in US Dollars</th>\n",
       "    </tr>\n",
       "    <tr>\n",
       "      <th>Date</th>\n",
       "      <th>Country</th>\n",
       "      <th></th>\n",
       "    </tr>\n",
       "  </thead>\n",
       "  <tbody>\n",
       "    <tr>\n",
       "      <th rowspan=\"3\" valign=\"top\">2010-01-01</th>\n",
       "      <th>Argentina</th>\n",
       "      <td>1.84</td>\n",
       "    </tr>\n",
       "    <tr>\n",
       "      <th>Australia</th>\n",
       "      <td>3.98</td>\n",
       "    </tr>\n",
       "    <tr>\n",
       "      <th>Brazil</th>\n",
       "      <td>4.76</td>\n",
       "    </tr>\n",
       "  </tbody>\n",
       "</table>\n",
       "</div>"
      ],
      "text/plain": [
       "                      Price in US Dollars\n",
       "Date       Country                       \n",
       "2010-01-01 Argentina                 1.84\n",
       "           Australia                 3.98\n",
       "           Brazil                    4.76"
      ]
     },
     "execution_count": 37,
     "metadata": {},
     "output_type": "execute_result"
    }
   ],
   "source": [
    "\n",
    "bigmac = pd.read_csv(\"bigmac.csv\", parse_dates = [\"Date\"], index_col = [\"Date\", \"Country\"])\n",
    "\n",
    "bigmac.sort_index(inplace = True)\n",
    "\n",
    "bigmac.head(3)\n"
   ]
  },
  {
   "cell_type": "code",
   "execution_count": 39,
   "metadata": {
    "id": "BDQ2k6hJJaug",
    "outputId": "b4c817be-bdb9-40e4-f7c3-43da7db135cc"
   },
   "outputs": [
    {
     "data": {
      "text/html": [
       "<div>\n",
       "<style scoped>\n",
       "    .dataframe tbody tr th:only-of-type {\n",
       "        vertical-align: middle;\n",
       "    }\n",
       "\n",
       "    .dataframe tbody tr th {\n",
       "        vertical-align: top;\n",
       "    }\n",
       "\n",
       "    .dataframe thead th {\n",
       "        text-align: right;\n",
       "    }\n",
       "</style>\n",
       "<table border=\"1\" class=\"dataframe\">\n",
       "  <thead>\n",
       "    <tr style=\"text-align: right;\">\n",
       "      <th></th>\n",
       "      <th></th>\n",
       "      <th>Price in US Dollars</th>\n",
       "    </tr>\n",
       "    <tr>\n",
       "      <th>Date</th>\n",
       "      <th>Country</th>\n",
       "      <th></th>\n",
       "    </tr>\n",
       "  </thead>\n",
       "  <tbody>\n",
       "    <tr>\n",
       "      <th rowspan=\"3\" valign=\"top\">2010-01-01</th>\n",
       "      <th>Argentina</th>\n",
       "      <td>1.84</td>\n",
       "    </tr>\n",
       "    <tr>\n",
       "      <th>Australia</th>\n",
       "      <td>3.98</td>\n",
       "    </tr>\n",
       "    <tr>\n",
       "      <th>Brazil</th>\n",
       "      <td>4.76</td>\n",
       "    </tr>\n",
       "  </tbody>\n",
       "</table>\n",
       "</div>"
      ],
      "text/plain": [
       "                      Price in US Dollars\n",
       "Date       Country                       \n",
       "2010-01-01 Argentina                 1.84\n",
       "           Australia                 3.98\n",
       "           Brazil                    4.76"
      ]
     },
     "execution_count": 39,
     "metadata": {},
     "output_type": "execute_result"
    }
   ],
   "source": [
    "'''\n",
    "        .swaplevel() : Swap levels i and j in a :class:`MultiIndex`.\n",
    "\n",
    "                       Default is to swap the two innermost levels of the index.\n",
    "\n",
    "'''\n",
    "\n",
    "\n",
    "bigmac = bigmac.swaplevel()\n",
    "\n",
    "bigmac.head(3)\n"
   ]
  },
  {
   "cell_type": "markdown",
   "metadata": {
    "collapsed": true,
    "id": "mZWGRCSKJauh"
   },
   "source": [
    "## The `.sort_index()` Method on a MultiIndex `DataFrame`"
   ]
  },
  {
   "cell_type": "code",
   "execution_count": 36,
   "metadata": {
    "id": "6pxalYNPJauh",
    "outputId": "fb98c451-fb08-483e-f269-f29aacfe405a"
   },
   "outputs": [
    {
     "data": {
      "text/html": [
       "<div>\n",
       "<style scoped>\n",
       "    .dataframe tbody tr th:only-of-type {\n",
       "        vertical-align: middle;\n",
       "    }\n",
       "\n",
       "    .dataframe tbody tr th {\n",
       "        vertical-align: top;\n",
       "    }\n",
       "\n",
       "    .dataframe thead th {\n",
       "        text-align: right;\n",
       "    }\n",
       "</style>\n",
       "<table border=\"1\" class=\"dataframe\">\n",
       "  <thead>\n",
       "    <tr style=\"text-align: right;\">\n",
       "      <th></th>\n",
       "      <th></th>\n",
       "      <th>Price in US Dollars</th>\n",
       "    </tr>\n",
       "    <tr>\n",
       "      <th>Date</th>\n",
       "      <th>Country</th>\n",
       "      <th></th>\n",
       "    </tr>\n",
       "  </thead>\n",
       "  <tbody>\n",
       "    <tr>\n",
       "      <th rowspan=\"3\" valign=\"top\">2010-01-01</th>\n",
       "      <th>Argentina</th>\n",
       "      <td>1.84</td>\n",
       "    </tr>\n",
       "    <tr>\n",
       "      <th>Australia</th>\n",
       "      <td>3.98</td>\n",
       "    </tr>\n",
       "    <tr>\n",
       "      <th>Brazil</th>\n",
       "      <td>4.76</td>\n",
       "    </tr>\n",
       "  </tbody>\n",
       "</table>\n",
       "</div>"
      ],
      "text/plain": [
       "                      Price in US Dollars\n",
       "Date       Country                       \n",
       "2010-01-01 Argentina                 1.84\n",
       "           Australia                 3.98\n",
       "           Brazil                    4.76"
      ]
     },
     "execution_count": 36,
     "metadata": {},
     "output_type": "execute_result"
    }
   ],
   "source": [
    "\n",
    "bigmac = pd.read_csv(\"bigmac.csv\", parse_dates = [\"Date\"], index_col = [\"Date\", \"Country\"])\n",
    "\n",
    "bigmac.sort_index(inplace = True)\n",
    "\n",
    "bigmac.head(3)\n"
   ]
  },
  {
   "cell_type": "code",
   "execution_count": 35,
   "metadata": {
    "id": "2gTG_z6-Jaui"
   },
   "outputs": [],
   "source": [
    "'''\n",
    "        .sort_index() : Sort object by labels (along an axis).\n",
    "\n",
    "                        Returns a new DataFrame sorted by label if `inplace` argument is\n",
    "                        ``False``, otherwise updates the original DataFrame and returns None.\n",
    "\n",
    "'''\n",
    "\n",
    "\n",
    "bigmac.sort_index(ascending = [True, False], inplace = True)\n"
   ]
  },
  {
   "cell_type": "code",
   "execution_count": 34,
   "metadata": {
    "id": "PPT5S-IvJaui",
    "outputId": "c2cc9609-38b5-464d-85b6-a08f95d2c134"
   },
   "outputs": [
    {
     "data": {
      "text/html": [
       "<div>\n",
       "<style scoped>\n",
       "    .dataframe tbody tr th:only-of-type {\n",
       "        vertical-align: middle;\n",
       "    }\n",
       "\n",
       "    .dataframe tbody tr th {\n",
       "        vertical-align: top;\n",
       "    }\n",
       "\n",
       "    .dataframe thead th {\n",
       "        text-align: right;\n",
       "    }\n",
       "</style>\n",
       "<table border=\"1\" class=\"dataframe\">\n",
       "  <thead>\n",
       "    <tr style=\"text-align: right;\">\n",
       "      <th></th>\n",
       "      <th></th>\n",
       "      <th>Price in US Dollars</th>\n",
       "    </tr>\n",
       "    <tr>\n",
       "      <th>Date</th>\n",
       "      <th>Country</th>\n",
       "      <th></th>\n",
       "    </tr>\n",
       "  </thead>\n",
       "  <tbody>\n",
       "    <tr>\n",
       "      <th rowspan=\"3\" valign=\"top\">2010-01-01</th>\n",
       "      <th>Uruguay</th>\n",
       "      <td>3.32</td>\n",
       "    </tr>\n",
       "    <tr>\n",
       "      <th>United States</th>\n",
       "      <td>3.58</td>\n",
       "    </tr>\n",
       "    <tr>\n",
       "      <th>Ukraine</th>\n",
       "      <td>1.83</td>\n",
       "    </tr>\n",
       "  </tbody>\n",
       "</table>\n",
       "</div>"
      ],
      "text/plain": [
       "                          Price in US Dollars\n",
       "Date       Country                           \n",
       "2010-01-01 Uruguay                       3.32\n",
       "           United States                 3.58\n",
       "           Ukraine                       1.83"
      ]
     },
     "execution_count": 34,
     "metadata": {},
     "output_type": "execute_result"
    }
   ],
   "source": [
    "\n",
    "bigmac.head(3)\n"
   ]
  },
  {
   "cell_type": "code",
   "execution_count": null,
   "metadata": {
    "collapsed": true,
    "id": "7bBOTtKMJaul"
   },
   "outputs": [],
   "source": []
  },
  {
   "cell_type": "code",
   "execution_count": null,
   "metadata": {
    "collapsed": true,
    "id": "dbQVjDr2Jaul"
   },
   "outputs": [],
   "source": []
  },
  {
   "cell_type": "markdown",
   "metadata": {
    "id": "cF0-Vz9AJaul"
   },
   "source": [
    "## The `pivot` Method"
   ]
  },
  {
   "cell_type": "code",
   "execution_count": 31,
   "metadata": {
    "id": "sER8RULcJaul",
    "outputId": "f32bd16f-7c22-413e-b368-eee0af1c8b35"
   },
   "outputs": [
    {
     "data": {
      "text/html": [
       "<div>\n",
       "<style scoped>\n",
       "    .dataframe tbody tr th:only-of-type {\n",
       "        vertical-align: middle;\n",
       "    }\n",
       "\n",
       "    .dataframe tbody tr th {\n",
       "        vertical-align: top;\n",
       "    }\n",
       "\n",
       "    .dataframe thead th {\n",
       "        text-align: right;\n",
       "    }\n",
       "</style>\n",
       "<table border=\"1\" class=\"dataframe\">\n",
       "  <thead>\n",
       "    <tr style=\"text-align: right;\">\n",
       "      <th></th>\n",
       "      <th>Date</th>\n",
       "      <th>Salesman</th>\n",
       "      <th>Revenue</th>\n",
       "    </tr>\n",
       "  </thead>\n",
       "  <tbody>\n",
       "    <tr>\n",
       "      <th>0</th>\n",
       "      <td>2016-01-01</td>\n",
       "      <td>Bob</td>\n",
       "      <td>7172</td>\n",
       "    </tr>\n",
       "    <tr>\n",
       "      <th>1</th>\n",
       "      <td>2016-01-02</td>\n",
       "      <td>Bob</td>\n",
       "      <td>6362</td>\n",
       "    </tr>\n",
       "    <tr>\n",
       "      <th>2</th>\n",
       "      <td>2016-01-03</td>\n",
       "      <td>Bob</td>\n",
       "      <td>5982</td>\n",
       "    </tr>\n",
       "  </tbody>\n",
       "</table>\n",
       "</div>"
      ],
      "text/plain": [
       "        Date Salesman  Revenue\n",
       "0 2016-01-01      Bob     7172\n",
       "1 2016-01-02      Bob     6362\n",
       "2 2016-01-03      Bob     5982"
      ]
     },
     "execution_count": 31,
     "metadata": {},
     "output_type": "execute_result"
    }
   ],
   "source": [
    "\n",
    "sales = pd.read_csv(\"salesmen.csv\", parse_dates = [\"Date\"])\n",
    "\n",
    "sales[\"Salesman\"] = sales[\"Salesman\"].astype(\"category\")\n",
    "\n",
    "sales.head(3)\n"
   ]
  },
  {
   "cell_type": "markdown",
   "metadata": {
    "id": "n6QvpeBqJaul"
   },
   "source": [
    "## The `.stack()` Method"
   ]
  },
  {
   "cell_type": "code",
   "execution_count": 29,
   "metadata": {
    "id": "0S3WjPj1Jaum",
    "outputId": "c3eeb678-234d-4f59-ed24-9022aba39f62"
   },
   "outputs": [
    {
     "data": {
      "text/html": [
       "<div>\n",
       "<style scoped>\n",
       "    .dataframe tbody tr th:only-of-type {\n",
       "        vertical-align: middle;\n",
       "    }\n",
       "\n",
       "    .dataframe tbody tr th {\n",
       "        vertical-align: top;\n",
       "    }\n",
       "\n",
       "    .dataframe thead th {\n",
       "        text-align: right;\n",
       "    }\n",
       "</style>\n",
       "<table border=\"1\" class=\"dataframe\">\n",
       "  <thead>\n",
       "    <tr style=\"text-align: right;\">\n",
       "      <th></th>\n",
       "      <th></th>\n",
       "      <th>Population</th>\n",
       "      <th>GDP</th>\n",
       "    </tr>\n",
       "    <tr>\n",
       "      <th>country</th>\n",
       "      <th>year</th>\n",
       "      <th></th>\n",
       "      <th></th>\n",
       "    </tr>\n",
       "  </thead>\n",
       "  <tbody>\n",
       "    <tr>\n",
       "      <th rowspan=\"3\" valign=\"top\">Arab World</th>\n",
       "      <th>2015</th>\n",
       "      <td>392022276.0</td>\n",
       "      <td>2.530102e+12</td>\n",
       "    </tr>\n",
       "    <tr>\n",
       "      <th>2014</th>\n",
       "      <td>384222592.0</td>\n",
       "      <td>2.873600e+12</td>\n",
       "    </tr>\n",
       "    <tr>\n",
       "      <th>2013</th>\n",
       "      <td>376504253.0</td>\n",
       "      <td>2.846994e+12</td>\n",
       "    </tr>\n",
       "  </tbody>\n",
       "</table>\n",
       "</div>"
      ],
      "text/plain": [
       "                  Population           GDP\n",
       "country    year                           \n",
       "Arab World 2015  392022276.0  2.530102e+12\n",
       "           2014  384222592.0  2.873600e+12\n",
       "           2013  376504253.0  2.846994e+12"
      ]
     },
     "execution_count": 29,
     "metadata": {},
     "output_type": "execute_result"
    }
   ],
   "source": [
    "\n",
    "world = pd.read_csv(\"worldstats.csv\", index_col = [\"country\", \"year\"])\n",
    "\n",
    "world.head(3)\n"
   ]
  },
  {
   "cell_type": "code",
   "execution_count": 30,
   "metadata": {
    "id": "2AVXyYZAJaum",
    "outputId": "cf9abb2f-4433-4ee7-9e1c-7bd9959e7788"
   },
   "outputs": [
    {
     "data": {
      "text/html": [
       "<div>\n",
       "<style scoped>\n",
       "    .dataframe tbody tr th:only-of-type {\n",
       "        vertical-align: middle;\n",
       "    }\n",
       "\n",
       "    .dataframe tbody tr th {\n",
       "        vertical-align: top;\n",
       "    }\n",
       "\n",
       "    .dataframe thead th {\n",
       "        text-align: right;\n",
       "    }\n",
       "</style>\n",
       "<table border=\"1\" class=\"dataframe\">\n",
       "  <thead>\n",
       "    <tr style=\"text-align: right;\">\n",
       "      <th></th>\n",
       "      <th></th>\n",
       "      <th></th>\n",
       "      <th>0</th>\n",
       "    </tr>\n",
       "    <tr>\n",
       "      <th>country</th>\n",
       "      <th>year</th>\n",
       "      <th></th>\n",
       "      <th></th>\n",
       "    </tr>\n",
       "  </thead>\n",
       "  <tbody>\n",
       "    <tr>\n",
       "      <th rowspan=\"5\" valign=\"top\">Arab World</th>\n",
       "      <th rowspan=\"2\" valign=\"top\">2015</th>\n",
       "      <th>Population</th>\n",
       "      <td>3.920223e+08</td>\n",
       "    </tr>\n",
       "    <tr>\n",
       "      <th>GDP</th>\n",
       "      <td>2.530102e+12</td>\n",
       "    </tr>\n",
       "    <tr>\n",
       "      <th rowspan=\"2\" valign=\"top\">2014</th>\n",
       "      <th>Population</th>\n",
       "      <td>3.842226e+08</td>\n",
       "    </tr>\n",
       "    <tr>\n",
       "      <th>GDP</th>\n",
       "      <td>2.873600e+12</td>\n",
       "    </tr>\n",
       "    <tr>\n",
       "      <th>2013</th>\n",
       "      <th>Population</th>\n",
       "      <td>3.765043e+08</td>\n",
       "    </tr>\n",
       "    <tr>\n",
       "      <th>...</th>\n",
       "      <th>...</th>\n",
       "      <th>...</th>\n",
       "      <td>...</td>\n",
       "    </tr>\n",
       "    <tr>\n",
       "      <th rowspan=\"5\" valign=\"top\">Zimbabwe</th>\n",
       "      <th>1962</th>\n",
       "      <th>GDP</th>\n",
       "      <td>1.117602e+09</td>\n",
       "    </tr>\n",
       "    <tr>\n",
       "      <th rowspan=\"2\" valign=\"top\">1961</th>\n",
       "      <th>Population</th>\n",
       "      <td>3.876638e+06</td>\n",
       "    </tr>\n",
       "    <tr>\n",
       "      <th>GDP</th>\n",
       "      <td>1.096647e+09</td>\n",
       "    </tr>\n",
       "    <tr>\n",
       "      <th rowspan=\"2\" valign=\"top\">1960</th>\n",
       "      <th>Population</th>\n",
       "      <td>3.752390e+06</td>\n",
       "    </tr>\n",
       "    <tr>\n",
       "      <th>GDP</th>\n",
       "      <td>1.052990e+09</td>\n",
       "    </tr>\n",
       "  </tbody>\n",
       "</table>\n",
       "<p>22422 rows × 1 columns</p>\n",
       "</div>"
      ],
      "text/plain": [
       "                                       0\n",
       "country    year                         \n",
       "Arab World 2015 Population  3.920223e+08\n",
       "                GDP         2.530102e+12\n",
       "           2014 Population  3.842226e+08\n",
       "                GDP         2.873600e+12\n",
       "           2013 Population  3.765043e+08\n",
       "...                                  ...\n",
       "Zimbabwe   1962 GDP         1.117602e+09\n",
       "           1961 Population  3.876638e+06\n",
       "                GDP         1.096647e+09\n",
       "           1960 Population  3.752390e+06\n",
       "                GDP         1.052990e+09\n",
       "\n",
       "[22422 rows x 1 columns]"
      ]
     },
     "execution_count": 30,
     "metadata": {},
     "output_type": "execute_result"
    }
   ],
   "source": [
    "'''\n",
    "        .stack() : Stack the prescribed level(s) from columns to index.\n",
    "\n",
    "                   Return a reshaped DataFrame or Series having a multi-level\n",
    "                   index with one or more new inner-most levels compared to the current\n",
    "                   DataFrame. The new inner-most levels are created by pivoting the\n",
    "                   columns of the current dataframe:\n",
    "\n",
    "                  - if the columns have a single level, the output is a Series;\n",
    "                  - if the columns have multiple levels, the new index\n",
    "                    level(s) is (are) taken from the prescribed level(s) and\n",
    "                    the output is a DataFrame.\n",
    "\n",
    "\n",
    "'''\n",
    "\n",
    "\n",
    "world.stack().to_frame()\n"
   ]
  },
  {
   "cell_type": "markdown",
   "metadata": {
    "id": "oOkX1gEeJaum"
   },
   "source": [
    "## The `.unstack()` Method, Part 3"
   ]
  },
  {
   "cell_type": "code",
   "execution_count": 25,
   "metadata": {
    "id": "bn7ZAsHAJaun",
    "outputId": "73dfee04-5c44-4dd5-b323-93d60d1fb23a"
   },
   "outputs": [
    {
     "data": {
      "text/plain": [
       "country     year            \n",
       "Arab World  2015  Population    3.920223e+08\n",
       "                  GDP           2.530102e+12\n",
       "            2014  Population    3.842226e+08\n",
       "dtype: float64"
      ]
     },
     "execution_count": 25,
     "metadata": {},
     "output_type": "execute_result"
    }
   ],
   "source": [
    "\n",
    "world = pd.read_csv(\"worldstats.csv\", index_col = [\"country\", \"year\"])\n",
    "\n",
    "s = world.stack()\n",
    "\n",
    "s.head(3)\n"
   ]
  },
  {
   "cell_type": "code",
   "execution_count": 26,
   "metadata": {
    "id": "2l8uzDZDJauo",
    "outputId": "f46f6784-8b93-468d-bc7e-6321a96df4d2"
   },
   "outputs": [
    {
     "data": {
      "text/html": [
       "<div>\n",
       "<style scoped>\n",
       "    .dataframe tbody tr th:only-of-type {\n",
       "        vertical-align: middle;\n",
       "    }\n",
       "\n",
       "    .dataframe tbody tr th {\n",
       "        vertical-align: top;\n",
       "    }\n",
       "\n",
       "    .dataframe thead tr th {\n",
       "        text-align: left;\n",
       "    }\n",
       "</style>\n",
       "<table border=\"1\" class=\"dataframe\">\n",
       "  <thead>\n",
       "    <tr>\n",
       "      <th>year</th>\n",
       "      <th>2015</th>\n",
       "      <th>2014</th>\n",
       "      <th>2013</th>\n",
       "      <th>2012</th>\n",
       "      <th>2011</th>\n",
       "      <th>2010</th>\n",
       "      <th>2009</th>\n",
       "      <th>2008</th>\n",
       "      <th>2007</th>\n",
       "      <th>2006</th>\n",
       "      <th>...</th>\n",
       "      <th>1969</th>\n",
       "      <th>1968</th>\n",
       "      <th>1967</th>\n",
       "      <th>1966</th>\n",
       "      <th>1965</th>\n",
       "      <th>1964</th>\n",
       "      <th>1963</th>\n",
       "      <th>1962</th>\n",
       "      <th>1961</th>\n",
       "      <th>1960</th>\n",
       "    </tr>\n",
       "    <tr>\n",
       "      <th>country</th>\n",
       "      <th>Arab World</th>\n",
       "      <th>Arab World</th>\n",
       "      <th>Arab World</th>\n",
       "      <th>Arab World</th>\n",
       "      <th>Arab World</th>\n",
       "      <th>Arab World</th>\n",
       "      <th>Arab World</th>\n",
       "      <th>Arab World</th>\n",
       "      <th>Arab World</th>\n",
       "      <th>Arab World</th>\n",
       "      <th>...</th>\n",
       "      <th>Zimbabwe</th>\n",
       "      <th>Zimbabwe</th>\n",
       "      <th>Zimbabwe</th>\n",
       "      <th>Zimbabwe</th>\n",
       "      <th>Zimbabwe</th>\n",
       "      <th>Zimbabwe</th>\n",
       "      <th>Zimbabwe</th>\n",
       "      <th>Zimbabwe</th>\n",
       "      <th>Zimbabwe</th>\n",
       "      <th>Zimbabwe</th>\n",
       "    </tr>\n",
       "  </thead>\n",
       "  <tbody>\n",
       "    <tr>\n",
       "      <th>Population</th>\n",
       "      <td>3.920223e+08</td>\n",
       "      <td>3.842226e+08</td>\n",
       "      <td>3.765043e+08</td>\n",
       "      <td>3.688026e+08</td>\n",
       "      <td>3.610318e+08</td>\n",
       "      <td>3.531122e+08</td>\n",
       "      <td>3.450542e+08</td>\n",
       "      <td>3.368865e+08</td>\n",
       "      <td>3.287666e+08</td>\n",
       "      <td>3.209067e+08</td>\n",
       "      <td>...</td>\n",
       "      <td>5.036321e+06</td>\n",
       "      <td>4.874113e+06</td>\n",
       "      <td>4.718612e+06</td>\n",
       "      <td>4.568320e+06</td>\n",
       "      <td>4.422132e+06</td>\n",
       "      <td>4.279561e+06</td>\n",
       "      <td>4.140804e+06</td>\n",
       "      <td>4.006262e+06</td>\n",
       "      <td>3.876638e+06</td>\n",
       "      <td>3.752390e+06</td>\n",
       "    </tr>\n",
       "    <tr>\n",
       "      <th>GDP</th>\n",
       "      <td>2.530102e+12</td>\n",
       "      <td>2.873600e+12</td>\n",
       "      <td>2.846994e+12</td>\n",
       "      <td>2.773270e+12</td>\n",
       "      <td>2.497945e+12</td>\n",
       "      <td>2.103825e+12</td>\n",
       "      <td>1.798878e+12</td>\n",
       "      <td>2.081343e+12</td>\n",
       "      <td>1.641666e+12</td>\n",
       "      <td>1.404190e+12</td>\n",
       "      <td>...</td>\n",
       "      <td>1.747999e+09</td>\n",
       "      <td>1.479600e+09</td>\n",
       "      <td>1.397002e+09</td>\n",
       "      <td>1.281750e+09</td>\n",
       "      <td>1.311436e+09</td>\n",
       "      <td>1.217138e+09</td>\n",
       "      <td>1.159512e+09</td>\n",
       "      <td>1.117602e+09</td>\n",
       "      <td>1.096647e+09</td>\n",
       "      <td>1.052990e+09</td>\n",
       "    </tr>\n",
       "  </tbody>\n",
       "</table>\n",
       "<p>2 rows × 11211 columns</p>\n",
       "</div>"
      ],
      "text/plain": [
       "year                2015          2014          2013          2012  \\\n",
       "country       Arab World    Arab World    Arab World    Arab World   \n",
       "Population  3.920223e+08  3.842226e+08  3.765043e+08  3.688026e+08   \n",
       "GDP         2.530102e+12  2.873600e+12  2.846994e+12  2.773270e+12   \n",
       "\n",
       "year                2011          2010          2009          2008  \\\n",
       "country       Arab World    Arab World    Arab World    Arab World   \n",
       "Population  3.610318e+08  3.531122e+08  3.450542e+08  3.368865e+08   \n",
       "GDP         2.497945e+12  2.103825e+12  1.798878e+12  2.081343e+12   \n",
       "\n",
       "year                2007          2006  ...          1969          1968  \\\n",
       "country       Arab World    Arab World  ...      Zimbabwe      Zimbabwe   \n",
       "Population  3.287666e+08  3.209067e+08  ...  5.036321e+06  4.874113e+06   \n",
       "GDP         1.641666e+12  1.404190e+12  ...  1.747999e+09  1.479600e+09   \n",
       "\n",
       "year                1967          1966          1965          1964  \\\n",
       "country         Zimbabwe      Zimbabwe      Zimbabwe      Zimbabwe   \n",
       "Population  4.718612e+06  4.568320e+06  4.422132e+06  4.279561e+06   \n",
       "GDP         1.397002e+09  1.281750e+09  1.311436e+09  1.217138e+09   \n",
       "\n",
       "year                1963          1962          1961          1960  \n",
       "country         Zimbabwe      Zimbabwe      Zimbabwe      Zimbabwe  \n",
       "Population  4.140804e+06  4.006262e+06  3.876638e+06  3.752390e+06  \n",
       "GDP         1.159512e+09  1.117602e+09  1.096647e+09  1.052990e+09  \n",
       "\n",
       "[2 rows x 11211 columns]"
      ]
     },
     "execution_count": 26,
     "metadata": {},
     "output_type": "execute_result"
    }
   ],
   "source": [
    "'''\n",
    "        .unstack() : Pivot a level of the (necessarily hierarchical) index labels.\n",
    "\n",
    "                     Returns a DataFrame having a new level of column labels whose inner-most level\n",
    "                     consists of the pivoted index labels.\n",
    "\n",
    "                     If the index is not a MultiIndex, the output will be a Series\n",
    "                     (the analogue of stack when the columns are not a MultiIndex).\n",
    "                     \n",
    "         level     : int, str, or list of these, default -1 (last level)\n",
    "                     Level(s) of index to unstack, can pass level name.\n",
    "\n",
    "'''\n",
    "\n",
    "\n",
    "s.unstack(level = [\"year\", \"country\"])\n"
   ]
  },
  {
   "cell_type": "code",
   "execution_count": 27,
   "metadata": {
    "id": "PMPLDz18Jaup"
   },
   "outputs": [],
   "source": [
    "\n",
    "s = s.unstack(\"year\", fill_value = 0)\n"
   ]
  },
  {
   "cell_type": "code",
   "execution_count": 28,
   "metadata": {
    "id": "kqN84rTSJaup",
    "outputId": "d577766f-2303-45bd-e039-01c45fd604ae"
   },
   "outputs": [
    {
     "data": {
      "text/html": [
       "<div>\n",
       "<style scoped>\n",
       "    .dataframe tbody tr th:only-of-type {\n",
       "        vertical-align: middle;\n",
       "    }\n",
       "\n",
       "    .dataframe tbody tr th {\n",
       "        vertical-align: top;\n",
       "    }\n",
       "\n",
       "    .dataframe thead th {\n",
       "        text-align: right;\n",
       "    }\n",
       "</style>\n",
       "<table border=\"1\" class=\"dataframe\">\n",
       "  <thead>\n",
       "    <tr style=\"text-align: right;\">\n",
       "      <th></th>\n",
       "      <th>year</th>\n",
       "      <th>1960</th>\n",
       "      <th>1961</th>\n",
       "      <th>1962</th>\n",
       "      <th>1963</th>\n",
       "      <th>1964</th>\n",
       "      <th>1965</th>\n",
       "      <th>1966</th>\n",
       "      <th>1967</th>\n",
       "      <th>1968</th>\n",
       "      <th>1969</th>\n",
       "      <th>...</th>\n",
       "      <th>2006</th>\n",
       "      <th>2007</th>\n",
       "      <th>2008</th>\n",
       "      <th>2009</th>\n",
       "      <th>2010</th>\n",
       "      <th>2011</th>\n",
       "      <th>2012</th>\n",
       "      <th>2013</th>\n",
       "      <th>2014</th>\n",
       "      <th>2015</th>\n",
       "    </tr>\n",
       "    <tr>\n",
       "      <th>country</th>\n",
       "      <th></th>\n",
       "      <th></th>\n",
       "      <th></th>\n",
       "      <th></th>\n",
       "      <th></th>\n",
       "      <th></th>\n",
       "      <th></th>\n",
       "      <th></th>\n",
       "      <th></th>\n",
       "      <th></th>\n",
       "      <th></th>\n",
       "      <th></th>\n",
       "      <th></th>\n",
       "      <th></th>\n",
       "      <th></th>\n",
       "      <th></th>\n",
       "      <th></th>\n",
       "      <th></th>\n",
       "      <th></th>\n",
       "      <th></th>\n",
       "      <th></th>\n",
       "      <th></th>\n",
       "    </tr>\n",
       "  </thead>\n",
       "  <tbody>\n",
       "    <tr>\n",
       "      <th rowspan=\"2\" valign=\"top\">Afghanistan</th>\n",
       "      <th>Population</th>\n",
       "      <td>8.994793e+06</td>\n",
       "      <td>9.164945e+06</td>\n",
       "      <td>9.343772e+06</td>\n",
       "      <td>9.531555e+06</td>\n",
       "      <td>9.728645e+06</td>\n",
       "      <td>9.935358e+06</td>\n",
       "      <td>1.014884e+07</td>\n",
       "      <td>1.036860e+07</td>\n",
       "      <td>1.059979e+07</td>\n",
       "      <td>1.084951e+07</td>\n",
       "      <td>...</td>\n",
       "      <td>2.518362e+07</td>\n",
       "      <td>2.587754e+07</td>\n",
       "      <td>2.652874e+07</td>\n",
       "      <td>2.720729e+07</td>\n",
       "      <td>2.796221e+07</td>\n",
       "      <td>2.880917e+07</td>\n",
       "      <td>2.972680e+07</td>\n",
       "      <td>3.068250e+07</td>\n",
       "      <td>3.162751e+07</td>\n",
       "      <td>3.252656e+07</td>\n",
       "    </tr>\n",
       "    <tr>\n",
       "      <th>GDP</th>\n",
       "      <td>5.377778e+08</td>\n",
       "      <td>5.488889e+08</td>\n",
       "      <td>5.466667e+08</td>\n",
       "      <td>7.511112e+08</td>\n",
       "      <td>8.000000e+08</td>\n",
       "      <td>1.006667e+09</td>\n",
       "      <td>1.400000e+09</td>\n",
       "      <td>1.673333e+09</td>\n",
       "      <td>1.373333e+09</td>\n",
       "      <td>1.408889e+09</td>\n",
       "      <td>...</td>\n",
       "      <td>7.057598e+09</td>\n",
       "      <td>9.843842e+09</td>\n",
       "      <td>1.019053e+10</td>\n",
       "      <td>1.248694e+10</td>\n",
       "      <td>1.593680e+10</td>\n",
       "      <td>1.793024e+10</td>\n",
       "      <td>2.053654e+10</td>\n",
       "      <td>2.004633e+10</td>\n",
       "      <td>2.005019e+10</td>\n",
       "      <td>1.919944e+10</td>\n",
       "    </tr>\n",
       "    <tr>\n",
       "      <th rowspan=\"2\" valign=\"top\">Albania</th>\n",
       "      <th>Population</th>\n",
       "      <td>0.000000e+00</td>\n",
       "      <td>0.000000e+00</td>\n",
       "      <td>0.000000e+00</td>\n",
       "      <td>0.000000e+00</td>\n",
       "      <td>0.000000e+00</td>\n",
       "      <td>0.000000e+00</td>\n",
       "      <td>0.000000e+00</td>\n",
       "      <td>0.000000e+00</td>\n",
       "      <td>0.000000e+00</td>\n",
       "      <td>0.000000e+00</td>\n",
       "      <td>...</td>\n",
       "      <td>2.992547e+06</td>\n",
       "      <td>2.970017e+06</td>\n",
       "      <td>2.947314e+06</td>\n",
       "      <td>2.927519e+06</td>\n",
       "      <td>2.913021e+06</td>\n",
       "      <td>2.904780e+06</td>\n",
       "      <td>2.900247e+06</td>\n",
       "      <td>2.896652e+06</td>\n",
       "      <td>2.893654e+06</td>\n",
       "      <td>2.889167e+06</td>\n",
       "    </tr>\n",
       "    <tr>\n",
       "      <th>GDP</th>\n",
       "      <td>0.000000e+00</td>\n",
       "      <td>0.000000e+00</td>\n",
       "      <td>0.000000e+00</td>\n",
       "      <td>0.000000e+00</td>\n",
       "      <td>0.000000e+00</td>\n",
       "      <td>0.000000e+00</td>\n",
       "      <td>0.000000e+00</td>\n",
       "      <td>0.000000e+00</td>\n",
       "      <td>0.000000e+00</td>\n",
       "      <td>0.000000e+00</td>\n",
       "      <td>...</td>\n",
       "      <td>8.992642e+09</td>\n",
       "      <td>1.070101e+10</td>\n",
       "      <td>1.288135e+10</td>\n",
       "      <td>1.204421e+10</td>\n",
       "      <td>1.192695e+10</td>\n",
       "      <td>1.289087e+10</td>\n",
       "      <td>1.231978e+10</td>\n",
       "      <td>1.278103e+10</td>\n",
       "      <td>1.327796e+10</td>\n",
       "      <td>1.145560e+10</td>\n",
       "    </tr>\n",
       "    <tr>\n",
       "      <th>Algeria</th>\n",
       "      <th>Population</th>\n",
       "      <td>1.112489e+07</td>\n",
       "      <td>1.140486e+07</td>\n",
       "      <td>1.169015e+07</td>\n",
       "      <td>1.198513e+07</td>\n",
       "      <td>1.229597e+07</td>\n",
       "      <td>1.262695e+07</td>\n",
       "      <td>1.298027e+07</td>\n",
       "      <td>1.335420e+07</td>\n",
       "      <td>1.374438e+07</td>\n",
       "      <td>1.414444e+07</td>\n",
       "      <td>...</td>\n",
       "      <td>3.374933e+07</td>\n",
       "      <td>3.426197e+07</td>\n",
       "      <td>3.481106e+07</td>\n",
       "      <td>3.540179e+07</td>\n",
       "      <td>3.603616e+07</td>\n",
       "      <td>3.671713e+07</td>\n",
       "      <td>3.743943e+07</td>\n",
       "      <td>3.818614e+07</td>\n",
       "      <td>3.893433e+07</td>\n",
       "      <td>3.966652e+07</td>\n",
       "    </tr>\n",
       "  </tbody>\n",
       "</table>\n",
       "<p>5 rows × 56 columns</p>\n",
       "</div>"
      ],
      "text/plain": [
       "year                            1960          1961          1962  \\\n",
       "country                                                            \n",
       "Afghanistan Population  8.994793e+06  9.164945e+06  9.343772e+06   \n",
       "            GDP         5.377778e+08  5.488889e+08  5.466667e+08   \n",
       "Albania     Population  0.000000e+00  0.000000e+00  0.000000e+00   \n",
       "            GDP         0.000000e+00  0.000000e+00  0.000000e+00   \n",
       "Algeria     Population  1.112489e+07  1.140486e+07  1.169015e+07   \n",
       "\n",
       "year                            1963          1964          1965  \\\n",
       "country                                                            \n",
       "Afghanistan Population  9.531555e+06  9.728645e+06  9.935358e+06   \n",
       "            GDP         7.511112e+08  8.000000e+08  1.006667e+09   \n",
       "Albania     Population  0.000000e+00  0.000000e+00  0.000000e+00   \n",
       "            GDP         0.000000e+00  0.000000e+00  0.000000e+00   \n",
       "Algeria     Population  1.198513e+07  1.229597e+07  1.262695e+07   \n",
       "\n",
       "year                            1966          1967          1968  \\\n",
       "country                                                            \n",
       "Afghanistan Population  1.014884e+07  1.036860e+07  1.059979e+07   \n",
       "            GDP         1.400000e+09  1.673333e+09  1.373333e+09   \n",
       "Albania     Population  0.000000e+00  0.000000e+00  0.000000e+00   \n",
       "            GDP         0.000000e+00  0.000000e+00  0.000000e+00   \n",
       "Algeria     Population  1.298027e+07  1.335420e+07  1.374438e+07   \n",
       "\n",
       "year                            1969  ...          2006          2007  \\\n",
       "country                               ...                               \n",
       "Afghanistan Population  1.084951e+07  ...  2.518362e+07  2.587754e+07   \n",
       "            GDP         1.408889e+09  ...  7.057598e+09  9.843842e+09   \n",
       "Albania     Population  0.000000e+00  ...  2.992547e+06  2.970017e+06   \n",
       "            GDP         0.000000e+00  ...  8.992642e+09  1.070101e+10   \n",
       "Algeria     Population  1.414444e+07  ...  3.374933e+07  3.426197e+07   \n",
       "\n",
       "year                            2008          2009          2010  \\\n",
       "country                                                            \n",
       "Afghanistan Population  2.652874e+07  2.720729e+07  2.796221e+07   \n",
       "            GDP         1.019053e+10  1.248694e+10  1.593680e+10   \n",
       "Albania     Population  2.947314e+06  2.927519e+06  2.913021e+06   \n",
       "            GDP         1.288135e+10  1.204421e+10  1.192695e+10   \n",
       "Algeria     Population  3.481106e+07  3.540179e+07  3.603616e+07   \n",
       "\n",
       "year                            2011          2012          2013  \\\n",
       "country                                                            \n",
       "Afghanistan Population  2.880917e+07  2.972680e+07  3.068250e+07   \n",
       "            GDP         1.793024e+10  2.053654e+10  2.004633e+10   \n",
       "Albania     Population  2.904780e+06  2.900247e+06  2.896652e+06   \n",
       "            GDP         1.289087e+10  1.231978e+10  1.278103e+10   \n",
       "Algeria     Population  3.671713e+07  3.743943e+07  3.818614e+07   \n",
       "\n",
       "year                            2014          2015  \n",
       "country                                             \n",
       "Afghanistan Population  3.162751e+07  3.252656e+07  \n",
       "            GDP         2.005019e+10  1.919944e+10  \n",
       "Albania     Population  2.893654e+06  2.889167e+06  \n",
       "            GDP         1.327796e+10  1.145560e+10  \n",
       "Algeria     Population  3.893433e+07  3.966652e+07  \n",
       "\n",
       "[5 rows x 56 columns]"
      ]
     },
     "execution_count": 28,
     "metadata": {},
     "output_type": "execute_result"
    }
   ],
   "source": [
    "\n",
    "s.head()\n"
   ]
  },
  {
   "cell_type": "markdown",
   "metadata": {
    "id": "e2UCwy6bJauq"
   },
   "source": [
    "## The `pivot_table()` Method"
   ]
  },
  {
   "cell_type": "code",
   "execution_count": 17,
   "metadata": {
    "id": "Tua4qGg-Jauq",
    "outputId": "0c04530e-ec3d-492c-bb2a-dcf0c7747970"
   },
   "outputs": [
    {
     "data": {
      "text/html": [
       "<div>\n",
       "<style scoped>\n",
       "    .dataframe tbody tr th:only-of-type {\n",
       "        vertical-align: middle;\n",
       "    }\n",
       "\n",
       "    .dataframe tbody tr th {\n",
       "        vertical-align: top;\n",
       "    }\n",
       "\n",
       "    .dataframe thead th {\n",
       "        text-align: right;\n",
       "    }\n",
       "</style>\n",
       "<table border=\"1\" class=\"dataframe\">\n",
       "  <thead>\n",
       "    <tr style=\"text-align: right;\">\n",
       "      <th></th>\n",
       "      <th>First Name</th>\n",
       "      <th>Gender</th>\n",
       "      <th>City</th>\n",
       "      <th>Frequency</th>\n",
       "      <th>Item</th>\n",
       "      <th>Spend</th>\n",
       "    </tr>\n",
       "  </thead>\n",
       "  <tbody>\n",
       "    <tr>\n",
       "      <th>0</th>\n",
       "      <td>Wanda</td>\n",
       "      <td>Female</td>\n",
       "      <td>Stamford</td>\n",
       "      <td>Weekly</td>\n",
       "      <td>Burger</td>\n",
       "      <td>15.66</td>\n",
       "    </tr>\n",
       "    <tr>\n",
       "      <th>1</th>\n",
       "      <td>Eric</td>\n",
       "      <td>Male</td>\n",
       "      <td>Stamford</td>\n",
       "      <td>Daily</td>\n",
       "      <td>Chalupa</td>\n",
       "      <td>10.56</td>\n",
       "    </tr>\n",
       "    <tr>\n",
       "      <th>2</th>\n",
       "      <td>Charles</td>\n",
       "      <td>Male</td>\n",
       "      <td>New York</td>\n",
       "      <td>Never</td>\n",
       "      <td>Sushi</td>\n",
       "      <td>42.14</td>\n",
       "    </tr>\n",
       "  </tbody>\n",
       "</table>\n",
       "</div>"
      ],
      "text/plain": [
       "  First Name  Gender      City Frequency     Item  Spend\n",
       "0      Wanda  Female  Stamford    Weekly   Burger  15.66\n",
       "1       Eric    Male  Stamford     Daily  Chalupa  10.56\n",
       "2    Charles    Male  New York     Never    Sushi  42.14"
      ]
     },
     "execution_count": 17,
     "metadata": {},
     "output_type": "execute_result"
    }
   ],
   "source": [
    "\n",
    "foods =pd.read_csv(\"foods.csv\")\n",
    "\n",
    "foods.head(3)\n"
   ]
  },
  {
   "cell_type": "code",
   "execution_count": 18,
   "metadata": {
    "id": "1PZXMpLmJaur",
    "outputId": "fa2589c3-59f0-40c1-dbda-df31ec7352c1"
   },
   "outputs": [
    {
     "data": {
      "text/html": [
       "<div>\n",
       "<style scoped>\n",
       "    .dataframe tbody tr th:only-of-type {\n",
       "        vertical-align: middle;\n",
       "    }\n",
       "\n",
       "    .dataframe tbody tr th {\n",
       "        vertical-align: top;\n",
       "    }\n",
       "\n",
       "    .dataframe thead th {\n",
       "        text-align: right;\n",
       "    }\n",
       "</style>\n",
       "<table border=\"1\" class=\"dataframe\">\n",
       "  <thead>\n",
       "    <tr style=\"text-align: right;\">\n",
       "      <th></th>\n",
       "      <th>City</th>\n",
       "      <th>New York</th>\n",
       "      <th>Philadelphia</th>\n",
       "      <th>Stamford</th>\n",
       "    </tr>\n",
       "    <tr>\n",
       "      <th>Gender</th>\n",
       "      <th>Item</th>\n",
       "      <th></th>\n",
       "      <th></th>\n",
       "      <th></th>\n",
       "    </tr>\n",
       "  </thead>\n",
       "  <tbody>\n",
       "    <tr>\n",
       "      <th rowspan=\"3\" valign=\"top\">Female</th>\n",
       "      <th>Burger</th>\n",
       "      <td>2.25</td>\n",
       "      <td>1.97</td>\n",
       "      <td>6.24</td>\n",
       "    </tr>\n",
       "    <tr>\n",
       "      <th>Burrito</th>\n",
       "      <td>1.02</td>\n",
       "      <td>1.04</td>\n",
       "      <td>1.18</td>\n",
       "    </tr>\n",
       "    <tr>\n",
       "      <th>Chalupa</th>\n",
       "      <td>1.96</td>\n",
       "      <td>9.35</td>\n",
       "      <td>9.09</td>\n",
       "    </tr>\n",
       "  </tbody>\n",
       "</table>\n",
       "</div>"
      ],
      "text/plain": [
       "City            New York  Philadelphia  Stamford\n",
       "Gender Item                                     \n",
       "Female Burger       2.25          1.97      6.24\n",
       "       Burrito      1.02          1.04      1.18\n",
       "       Chalupa      1.96          9.35      9.09"
      ]
     },
     "execution_count": 18,
     "metadata": {},
     "output_type": "execute_result"
    }
   ],
   "source": [
    "'''\n",
    "        .pivot_table() : Create a spreadsheet-style pivot table as a DataFrame.\n",
    "\n",
    "                         The levels in the pivot table will be stored in MultiIndex objects\n",
    "                         (hierarchical indexes) on the index and columns of the result DataFrame.\n",
    "\n",
    "         values        : column to aggregate, optional\n",
    "         \n",
    "         index         : column, Grouper, array, or list of the previous\n",
    "         \n",
    "                         If an array is passed, it must be the same length as the data. The\n",
    "                         list can contain any of the other types (except list).\n",
    "                         Keys to group by on the pivot table index.  If an array is passed,\n",
    "                         it is being used as the same manner as column values.\n",
    "                         \n",
    "         columns       : column, Grouper, array, or list of the previous\n",
    "         \n",
    "                         If an array is passed, it must be the same length as the data. The\n",
    "                         list can contain any of the other types (except list).\n",
    "                         Keys to group by on the pivot table column.  If an array is passed,\n",
    "                         it is being used as the same manner as column values.\n",
    "\n",
    "         aggfunc       : function, list of functions, dict, default numpy.mean\n",
    "         \n",
    "                         If list of functions passed, the resulting pivot table will have\n",
    "                         hierarchical columns whose top level are the function names\n",
    "                         (inferred from the function objects themselves)\n",
    "                         If dict is passed, the key is column to aggregate and value\n",
    "                         is function or list of functions.\n",
    "\n",
    "'''\n",
    "\n",
    "\n",
    "\n",
    "foods.pivot_table(values = \"Spend\", index = [\"Gender\", \"Item\"], columns = \"City\", aggfunc = \"min\").head(3)\n"
   ]
  },
  {
   "cell_type": "code",
   "execution_count": 19,
   "metadata": {
    "id": "YvdCzKBFJaur",
    "outputId": "d28354a6-419b-4f2e-8052-135e4cd6ebc9"
   },
   "outputs": [
    {
     "data": {
      "text/html": [
       "<div>\n",
       "<style scoped>\n",
       "    .dataframe tbody tr th:only-of-type {\n",
       "        vertical-align: middle;\n",
       "    }\n",
       "\n",
       "    .dataframe tbody tr th {\n",
       "        vertical-align: top;\n",
       "    }\n",
       "\n",
       "    .dataframe thead th {\n",
       "        text-align: right;\n",
       "    }\n",
       "</style>\n",
       "<table border=\"1\" class=\"dataframe\">\n",
       "  <thead>\n",
       "    <tr style=\"text-align: right;\">\n",
       "      <th></th>\n",
       "      <th>City</th>\n",
       "      <th>New York</th>\n",
       "      <th>Philadelphia</th>\n",
       "      <th>Stamford</th>\n",
       "    </tr>\n",
       "    <tr>\n",
       "      <th>Gender</th>\n",
       "      <th>Item</th>\n",
       "      <th></th>\n",
       "      <th></th>\n",
       "      <th></th>\n",
       "    </tr>\n",
       "  </thead>\n",
       "  <tbody>\n",
       "    <tr>\n",
       "      <th rowspan=\"3\" valign=\"top\">Female</th>\n",
       "      <th>Burger</th>\n",
       "      <td>2.25</td>\n",
       "      <td>1.97</td>\n",
       "      <td>6.24</td>\n",
       "    </tr>\n",
       "    <tr>\n",
       "      <th>Burrito</th>\n",
       "      <td>1.02</td>\n",
       "      <td>1.04</td>\n",
       "      <td>1.18</td>\n",
       "    </tr>\n",
       "    <tr>\n",
       "      <th>Chalupa</th>\n",
       "      <td>1.96</td>\n",
       "      <td>9.35</td>\n",
       "      <td>9.09</td>\n",
       "    </tr>\n",
       "  </tbody>\n",
       "</table>\n",
       "</div>"
      ],
      "text/plain": [
       "City            New York  Philadelphia  Stamford\n",
       "Gender Item                                     \n",
       "Female Burger       2.25          1.97      6.24\n",
       "       Burrito      1.02          1.04      1.18\n",
       "       Chalupa      1.96          9.35      9.09"
      ]
     },
     "execution_count": 19,
     "metadata": {},
     "output_type": "execute_result"
    }
   ],
   "source": [
    "\n",
    "pd.pivot_table(data = foods, values = \"Spend\", index = [\"Gender\", \"Item\"], columns = \"City\", aggfunc = \"min\").head(3)\n"
   ]
  },
  {
   "cell_type": "markdown",
   "metadata": {
    "id": "to1vLGbSJaus"
   },
   "source": [
    "## The `pd.melt()` Method"
   ]
  },
  {
   "cell_type": "code",
   "execution_count": 15,
   "metadata": {
    "id": "Vtb8hvoOJaus",
    "outputId": "4c68c5b0-8568-4726-e3a3-dc786e9ec898"
   },
   "outputs": [
    {
     "data": {
      "text/html": [
       "<div>\n",
       "<style scoped>\n",
       "    .dataframe tbody tr th:only-of-type {\n",
       "        vertical-align: middle;\n",
       "    }\n",
       "\n",
       "    .dataframe tbody tr th {\n",
       "        vertical-align: top;\n",
       "    }\n",
       "\n",
       "    .dataframe thead th {\n",
       "        text-align: right;\n",
       "    }\n",
       "</style>\n",
       "<table border=\"1\" class=\"dataframe\">\n",
       "  <thead>\n",
       "    <tr style=\"text-align: right;\">\n",
       "      <th></th>\n",
       "      <th>Salesman</th>\n",
       "      <th>Q1</th>\n",
       "      <th>Q2</th>\n",
       "      <th>Q3</th>\n",
       "      <th>Q4</th>\n",
       "    </tr>\n",
       "  </thead>\n",
       "  <tbody>\n",
       "    <tr>\n",
       "      <th>0</th>\n",
       "      <td>Boris</td>\n",
       "      <td>602908</td>\n",
       "      <td>233879</td>\n",
       "      <td>354479</td>\n",
       "      <td>32704</td>\n",
       "    </tr>\n",
       "    <tr>\n",
       "      <th>1</th>\n",
       "      <td>Bob</td>\n",
       "      <td>43790</td>\n",
       "      <td>514863</td>\n",
       "      <td>297151</td>\n",
       "      <td>544493</td>\n",
       "    </tr>\n",
       "    <tr>\n",
       "      <th>2</th>\n",
       "      <td>Tommy</td>\n",
       "      <td>392668</td>\n",
       "      <td>113579</td>\n",
       "      <td>430882</td>\n",
       "      <td>247231</td>\n",
       "    </tr>\n",
       "    <tr>\n",
       "      <th>3</th>\n",
       "      <td>Travis</td>\n",
       "      <td>834663</td>\n",
       "      <td>266785</td>\n",
       "      <td>749238</td>\n",
       "      <td>570524</td>\n",
       "    </tr>\n",
       "    <tr>\n",
       "      <th>4</th>\n",
       "      <td>Donald</td>\n",
       "      <td>580935</td>\n",
       "      <td>411379</td>\n",
       "      <td>110390</td>\n",
       "      <td>651572</td>\n",
       "    </tr>\n",
       "    <tr>\n",
       "      <th>5</th>\n",
       "      <td>Ted</td>\n",
       "      <td>656644</td>\n",
       "      <td>70803</td>\n",
       "      <td>375948</td>\n",
       "      <td>321388</td>\n",
       "    </tr>\n",
       "    <tr>\n",
       "      <th>6</th>\n",
       "      <td>Jeb</td>\n",
       "      <td>486141</td>\n",
       "      <td>600753</td>\n",
       "      <td>742716</td>\n",
       "      <td>404995</td>\n",
       "    </tr>\n",
       "    <tr>\n",
       "      <th>7</th>\n",
       "      <td>Stacy</td>\n",
       "      <td>479662</td>\n",
       "      <td>742806</td>\n",
       "      <td>770712</td>\n",
       "      <td>2501</td>\n",
       "    </tr>\n",
       "    <tr>\n",
       "      <th>8</th>\n",
       "      <td>Morgan</td>\n",
       "      <td>992673</td>\n",
       "      <td>879183</td>\n",
       "      <td>37945</td>\n",
       "      <td>293710</td>\n",
       "    </tr>\n",
       "  </tbody>\n",
       "</table>\n",
       "</div>"
      ],
      "text/plain": [
       "  Salesman      Q1      Q2      Q3      Q4\n",
       "0    Boris  602908  233879  354479   32704\n",
       "1      Bob   43790  514863  297151  544493\n",
       "2    Tommy  392668  113579  430882  247231\n",
       "3   Travis  834663  266785  749238  570524\n",
       "4   Donald  580935  411379  110390  651572\n",
       "5      Ted  656644   70803  375948  321388\n",
       "6      Jeb  486141  600753  742716  404995\n",
       "7    Stacy  479662  742806  770712    2501\n",
       "8   Morgan  992673  879183   37945  293710"
      ]
     },
     "execution_count": 15,
     "metadata": {},
     "output_type": "execute_result"
    }
   ],
   "source": [
    "\n",
    "sales = pd.read_csv(\"quarters.csv\")\n",
    "\n",
    "sales\n"
   ]
  },
  {
   "cell_type": "code",
   "execution_count": 16,
   "metadata": {
    "id": "WY2ophdGJaus",
    "outputId": "b0fa00ec-8eb7-4a4a-c977-48d1319f0c9d"
   },
   "outputs": [
    {
     "data": {
      "text/html": [
       "<div>\n",
       "<style scoped>\n",
       "    .dataframe tbody tr th:only-of-type {\n",
       "        vertical-align: middle;\n",
       "    }\n",
       "\n",
       "    .dataframe tbody tr th {\n",
       "        vertical-align: top;\n",
       "    }\n",
       "\n",
       "    .dataframe thead th {\n",
       "        text-align: right;\n",
       "    }\n",
       "</style>\n",
       "<table border=\"1\" class=\"dataframe\">\n",
       "  <thead>\n",
       "    <tr style=\"text-align: right;\">\n",
       "      <th></th>\n",
       "      <th>Salesman</th>\n",
       "      <th>Quarter</th>\n",
       "      <th>Revenue</th>\n",
       "    </tr>\n",
       "  </thead>\n",
       "  <tbody>\n",
       "    <tr>\n",
       "      <th>0</th>\n",
       "      <td>Boris</td>\n",
       "      <td>Q1</td>\n",
       "      <td>602908</td>\n",
       "    </tr>\n",
       "    <tr>\n",
       "      <th>1</th>\n",
       "      <td>Bob</td>\n",
       "      <td>Q1</td>\n",
       "      <td>43790</td>\n",
       "    </tr>\n",
       "    <tr>\n",
       "      <th>2</th>\n",
       "      <td>Tommy</td>\n",
       "      <td>Q1</td>\n",
       "      <td>392668</td>\n",
       "    </tr>\n",
       "    <tr>\n",
       "      <th>3</th>\n",
       "      <td>Travis</td>\n",
       "      <td>Q1</td>\n",
       "      <td>834663</td>\n",
       "    </tr>\n",
       "    <tr>\n",
       "      <th>4</th>\n",
       "      <td>Donald</td>\n",
       "      <td>Q1</td>\n",
       "      <td>580935</td>\n",
       "    </tr>\n",
       "    <tr>\n",
       "      <th>5</th>\n",
       "      <td>Ted</td>\n",
       "      <td>Q1</td>\n",
       "      <td>656644</td>\n",
       "    </tr>\n",
       "    <tr>\n",
       "      <th>6</th>\n",
       "      <td>Jeb</td>\n",
       "      <td>Q1</td>\n",
       "      <td>486141</td>\n",
       "    </tr>\n",
       "    <tr>\n",
       "      <th>7</th>\n",
       "      <td>Stacy</td>\n",
       "      <td>Q1</td>\n",
       "      <td>479662</td>\n",
       "    </tr>\n",
       "    <tr>\n",
       "      <th>8</th>\n",
       "      <td>Morgan</td>\n",
       "      <td>Q1</td>\n",
       "      <td>992673</td>\n",
       "    </tr>\n",
       "    <tr>\n",
       "      <th>9</th>\n",
       "      <td>Boris</td>\n",
       "      <td>Q2</td>\n",
       "      <td>233879</td>\n",
       "    </tr>\n",
       "    <tr>\n",
       "      <th>10</th>\n",
       "      <td>Bob</td>\n",
       "      <td>Q2</td>\n",
       "      <td>514863</td>\n",
       "    </tr>\n",
       "    <tr>\n",
       "      <th>11</th>\n",
       "      <td>Tommy</td>\n",
       "      <td>Q2</td>\n",
       "      <td>113579</td>\n",
       "    </tr>\n",
       "    <tr>\n",
       "      <th>12</th>\n",
       "      <td>Travis</td>\n",
       "      <td>Q2</td>\n",
       "      <td>266785</td>\n",
       "    </tr>\n",
       "    <tr>\n",
       "      <th>13</th>\n",
       "      <td>Donald</td>\n",
       "      <td>Q2</td>\n",
       "      <td>411379</td>\n",
       "    </tr>\n",
       "    <tr>\n",
       "      <th>14</th>\n",
       "      <td>Ted</td>\n",
       "      <td>Q2</td>\n",
       "      <td>70803</td>\n",
       "    </tr>\n",
       "    <tr>\n",
       "      <th>15</th>\n",
       "      <td>Jeb</td>\n",
       "      <td>Q2</td>\n",
       "      <td>600753</td>\n",
       "    </tr>\n",
       "    <tr>\n",
       "      <th>16</th>\n",
       "      <td>Stacy</td>\n",
       "      <td>Q2</td>\n",
       "      <td>742806</td>\n",
       "    </tr>\n",
       "    <tr>\n",
       "      <th>17</th>\n",
       "      <td>Morgan</td>\n",
       "      <td>Q2</td>\n",
       "      <td>879183</td>\n",
       "    </tr>\n",
       "    <tr>\n",
       "      <th>18</th>\n",
       "      <td>Boris</td>\n",
       "      <td>Q3</td>\n",
       "      <td>354479</td>\n",
       "    </tr>\n",
       "    <tr>\n",
       "      <th>19</th>\n",
       "      <td>Bob</td>\n",
       "      <td>Q3</td>\n",
       "      <td>297151</td>\n",
       "    </tr>\n",
       "    <tr>\n",
       "      <th>20</th>\n",
       "      <td>Tommy</td>\n",
       "      <td>Q3</td>\n",
       "      <td>430882</td>\n",
       "    </tr>\n",
       "    <tr>\n",
       "      <th>21</th>\n",
       "      <td>Travis</td>\n",
       "      <td>Q3</td>\n",
       "      <td>749238</td>\n",
       "    </tr>\n",
       "    <tr>\n",
       "      <th>22</th>\n",
       "      <td>Donald</td>\n",
       "      <td>Q3</td>\n",
       "      <td>110390</td>\n",
       "    </tr>\n",
       "    <tr>\n",
       "      <th>23</th>\n",
       "      <td>Ted</td>\n",
       "      <td>Q3</td>\n",
       "      <td>375948</td>\n",
       "    </tr>\n",
       "    <tr>\n",
       "      <th>24</th>\n",
       "      <td>Jeb</td>\n",
       "      <td>Q3</td>\n",
       "      <td>742716</td>\n",
       "    </tr>\n",
       "    <tr>\n",
       "      <th>25</th>\n",
       "      <td>Stacy</td>\n",
       "      <td>Q3</td>\n",
       "      <td>770712</td>\n",
       "    </tr>\n",
       "    <tr>\n",
       "      <th>26</th>\n",
       "      <td>Morgan</td>\n",
       "      <td>Q3</td>\n",
       "      <td>37945</td>\n",
       "    </tr>\n",
       "    <tr>\n",
       "      <th>27</th>\n",
       "      <td>Boris</td>\n",
       "      <td>Q4</td>\n",
       "      <td>32704</td>\n",
       "    </tr>\n",
       "    <tr>\n",
       "      <th>28</th>\n",
       "      <td>Bob</td>\n",
       "      <td>Q4</td>\n",
       "      <td>544493</td>\n",
       "    </tr>\n",
       "    <tr>\n",
       "      <th>29</th>\n",
       "      <td>Tommy</td>\n",
       "      <td>Q4</td>\n",
       "      <td>247231</td>\n",
       "    </tr>\n",
       "    <tr>\n",
       "      <th>30</th>\n",
       "      <td>Travis</td>\n",
       "      <td>Q4</td>\n",
       "      <td>570524</td>\n",
       "    </tr>\n",
       "    <tr>\n",
       "      <th>31</th>\n",
       "      <td>Donald</td>\n",
       "      <td>Q4</td>\n",
       "      <td>651572</td>\n",
       "    </tr>\n",
       "    <tr>\n",
       "      <th>32</th>\n",
       "      <td>Ted</td>\n",
       "      <td>Q4</td>\n",
       "      <td>321388</td>\n",
       "    </tr>\n",
       "    <tr>\n",
       "      <th>33</th>\n",
       "      <td>Jeb</td>\n",
       "      <td>Q4</td>\n",
       "      <td>404995</td>\n",
       "    </tr>\n",
       "    <tr>\n",
       "      <th>34</th>\n",
       "      <td>Stacy</td>\n",
       "      <td>Q4</td>\n",
       "      <td>2501</td>\n",
       "    </tr>\n",
       "    <tr>\n",
       "      <th>35</th>\n",
       "      <td>Morgan</td>\n",
       "      <td>Q4</td>\n",
       "      <td>293710</td>\n",
       "    </tr>\n",
       "  </tbody>\n",
       "</table>\n",
       "</div>"
      ],
      "text/plain": [
       "   Salesman Quarter  Revenue\n",
       "0     Boris      Q1   602908\n",
       "1       Bob      Q1    43790\n",
       "2     Tommy      Q1   392668\n",
       "3    Travis      Q1   834663\n",
       "4    Donald      Q1   580935\n",
       "5       Ted      Q1   656644\n",
       "6       Jeb      Q1   486141\n",
       "7     Stacy      Q1   479662\n",
       "8    Morgan      Q1   992673\n",
       "9     Boris      Q2   233879\n",
       "10      Bob      Q2   514863\n",
       "11    Tommy      Q2   113579\n",
       "12   Travis      Q2   266785\n",
       "13   Donald      Q2   411379\n",
       "14      Ted      Q2    70803\n",
       "15      Jeb      Q2   600753\n",
       "16    Stacy      Q2   742806\n",
       "17   Morgan      Q2   879183\n",
       "18    Boris      Q3   354479\n",
       "19      Bob      Q3   297151\n",
       "20    Tommy      Q3   430882\n",
       "21   Travis      Q3   749238\n",
       "22   Donald      Q3   110390\n",
       "23      Ted      Q3   375948\n",
       "24      Jeb      Q3   742716\n",
       "25    Stacy      Q3   770712\n",
       "26   Morgan      Q3    37945\n",
       "27    Boris      Q4    32704\n",
       "28      Bob      Q4   544493\n",
       "29    Tommy      Q4   247231\n",
       "30   Travis      Q4   570524\n",
       "31   Donald      Q4   651572\n",
       "32      Ted      Q4   321388\n",
       "33      Jeb      Q4   404995\n",
       "34    Stacy      Q4     2501\n",
       "35   Morgan      Q4   293710"
      ]
     },
     "execution_count": 16,
     "metadata": {},
     "output_type": "execute_result"
    }
   ],
   "source": [
    "'''\n",
    "        pd.melt() : Unpivot a DataFrame from wide to long format, optionally leaving identifiers set.\n",
    "\n",
    "                    This function is useful to massage a DataFrame into a format where one\n",
    "                    or more columns are identifier variables (`id_vars`), while all other\n",
    "                    columns, considered measured variables (`value_vars`), are \"unpivoted\" to\n",
    "                    the row axis, leaving just two non-identifier columns, 'variable' and 'value'.\n",
    "                    \n",
    "       id_vars    : tuple, list, or ndarray, optional\n",
    "                    Column(s) to use as identifier variables.\n",
    "    \n",
    "       var_name   : scalar\n",
    "                    Name to use for the 'variable' column. If None it uses\n",
    "                    ``frame.columns.name`` or 'variable'.\n",
    "    \n",
    "\n",
    "       value_name : scalar, default 'value'\n",
    "                    Name to use for the 'value' column.\n",
    "\n",
    "'''\n",
    "\n",
    "\n",
    "pd.melt(sales, id_vars = \"Salesman\", var_name = \"Quarter\", value_name = \"Revenue\")\n"
   ]
  },
  {
   "cell_type": "code",
   "execution_count": null,
   "metadata": {
    "collapsed": true,
    "id": "mit3Qh3xJauu"
   },
   "outputs": [],
   "source": []
  },
  {
   "cell_type": "code",
   "execution_count": null,
   "metadata": {
    "collapsed": true,
    "id": "My-m5rvUJauu"
   },
   "outputs": [],
   "source": []
  }
 ],
 "metadata": {
  "anaconda-cloud": {},
  "colab": {
   "name": "MultiIndex.ipynb",
   "provenance": []
  },
  "kernelspec": {
   "display_name": "Python 3 (ipykernel)",
   "language": "python",
   "name": "python3"
  },
  "language_info": {
   "codemirror_mode": {
    "name": "ipython",
    "version": 3
   },
   "file_extension": ".py",
   "mimetype": "text/x-python",
   "name": "python",
   "nbconvert_exporter": "python",
   "pygments_lexer": "ipython3",
   "version": "3.9.7"
  }
 },
 "nbformat": 4,
 "nbformat_minor": 1
}
